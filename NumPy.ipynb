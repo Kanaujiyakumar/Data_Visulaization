{
 "cells": [
  {
   "cell_type": "code",
   "execution_count": 1,
   "id": "dae93994-9e1a-4f88-b3a0-bf2691717825",
   "metadata": {},
   "outputs": [],
   "source": [
    "# NumPy"
   ]
  },
  {
   "cell_type": "code",
   "execution_count": 2,
   "id": "542b1923-d8ff-42c7-bc17-ab728f02764e",
   "metadata": {},
   "outputs": [],
   "source": [
    "# 1. Create a NumPy array 'arr' of integers from 0 to 5 and print its data type.\n"
   ]
  },
  {
   "cell_type": "code",
   "execution_count": 3,
   "id": "e82f307b-ffb2-4f06-ac82-266aafac8377",
   "metadata": {},
   "outputs": [
    {
     "name": "stdout",
     "output_type": "stream",
     "text": [
      "Array: [0 1 2 3 4 5]\n",
      "Data type: int64\n"
     ]
    }
   ],
   "source": [
    "import numpy as np\n",
    "\n",
    "arr = np.arange(6)\n",
    "\n",
    "print(\"Array:\", arr)\n",
    "print(\"Data type:\", arr.dtype)"
   ]
  },
  {
   "cell_type": "code",
   "execution_count": 4,
   "id": "90ffb07b-a03b-4911-a1fb-901daaa31e48",
   "metadata": {},
   "outputs": [],
   "source": [
    "# 2. Given a NumPy array 'arr', check if its data type is float64.\n"
   ]
  },
  {
   "cell_type": "code",
   "execution_count": 6,
   "id": "e1fdcda6-4113-4e46-a568-8c5826f7b27a",
   "metadata": {},
   "outputs": [
    {
     "name": "stdout",
     "output_type": "stream",
     "text": [
      "Is the data type float64? True\n"
     ]
    }
   ],
   "source": [
    "arr = np.array([1.5, 2.6, 3.7])\n",
    "\n",
    "is_float64 = arr.dtype == np.float64\n",
    "\n",
    "print(\"Is the data type float64?\", is_float64)"
   ]
  },
  {
   "cell_type": "code",
   "execution_count": 7,
   "id": "3cd4a231-c810-4ef7-a607-87f75afbf1c9",
   "metadata": {},
   "outputs": [],
   "source": [
    "# 3. Create a NumPy array 'arr' with a data type of complex128 containing three complex numbers."
   ]
  },
  {
   "cell_type": "code",
   "execution_count": 8,
   "id": "e6720ede-dd8f-47d2-98d9-e9a068800eec",
   "metadata": {},
   "outputs": [
    {
     "name": "stdout",
     "output_type": "stream",
     "text": [
      "Array: [1.+2.j 3.+4.j 5.+6.j]\n",
      "Data type: complex128\n"
     ]
    }
   ],
   "source": [
    "arr = np.array([1+2j, 3+4j, 5+6j], dtype=np.complex128)\n",
    "\n",
    "\n",
    "print(\"Array:\", arr)\n",
    "print(\"Data type:\", arr.dtype)"
   ]
  },
  {
   "cell_type": "code",
   "execution_count": 9,
   "id": "1ecb56ce-18c2-45ec-9a08-19727473ddb7",
   "metadata": {},
   "outputs": [],
   "source": [
    "# 4. Convert an existing NumPy array 'arr' of integers to float32 data type."
   ]
  },
  {
   "cell_type": "code",
   "execution_count": 10,
   "id": "63a78b15-2523-4466-b9aa-a8455a157e02",
   "metadata": {},
   "outputs": [
    {
     "name": "stdout",
     "output_type": "stream",
     "text": [
      "Original array: [1 2 3 4 5]\n",
      "Original data type: int32\n",
      "Converted array: [1. 2. 3. 4. 5.]\n",
      "Converted data type: float32\n"
     ]
    }
   ],
   "source": [
    "arr = np.array([1, 2, 3, 4, 5], dtype=np.int32)\n",
    "\n",
    "arr_float32 = arr.astype(np.float32)\n",
    "\n",
    "print(\"Original array:\", arr)\n",
    "print(\"Original data type:\", arr.dtype)\n",
    "print(\"Converted array:\", arr_float32)\n",
    "print(\"Converted data type:\", arr_float32.dtype)"
   ]
  },
  {
   "cell_type": "code",
   "execution_count": 11,
   "id": "5659ab5b-65cf-48e7-a1d1-d5b5e9f95fb7",
   "metadata": {},
   "outputs": [],
   "source": [
    "# 5. Given a NumPy array 'arr' with float64 data type, convert it to float32 to reduce decimal precision."
   ]
  },
  {
   "cell_type": "code",
   "execution_count": 12,
   "id": "bfc82d7c-b814-4789-9500-50b6807cb97d",
   "metadata": {},
   "outputs": [
    {
     "name": "stdout",
     "output_type": "stream",
     "text": [
      "Original array: [1.12345679 2.98765432 3.45678912]\n",
      "Original data type: float64\n",
      "Converted array: [1.1234568 2.9876542 3.456789 ]\n",
      "Converted data type: float32\n"
     ]
    }
   ],
   "source": [
    "arr = np.array([1.123456789, 2.987654321, 3.456789123], dtype=np.float64)\n",
    "\n",
    "arr_float32 = arr.astype(np.float32)\n",
    "\n",
    "print(\"Original array:\", arr)\n",
    "print(\"Original data type:\", arr.dtype)\n",
    "print(\"Converted array:\", arr_float32)\n",
    "print(\"Converted data type:\", arr_float32.dtype)"
   ]
  },
  {
   "cell_type": "code",
   "execution_count": 13,
   "id": "d1dd86fd-0cda-4a3c-b0e0-e11d33724cb8",
   "metadata": {},
   "outputs": [],
   "source": [
    "# 6. Write a function array_attributes that takes a NumPy array as input and returns its shape, size, and data TYPE."
   ]
  },
  {
   "cell_type": "code",
   "execution_count": 14,
   "id": "35979489-6700-4be0-9ae9-599777b5fc1e",
   "metadata": {},
   "outputs": [
    {
     "name": "stdout",
     "output_type": "stream",
     "text": [
      "Shape: (2, 3)\n",
      "Size: 6\n",
      "Data type: int64\n"
     ]
    }
   ],
   "source": [
    "def array_attributes(arr):\n",
    "    \"\"\"\n",
    "    Takes a NumPy array as input and returns its shape, size, and data type.\n",
    "    \n",
    "    Parameters:\n",
    "    arr (np.ndarray): The input NumPy array.\n",
    "    \n",
    "    Returns:\n",
    "    tuple: A tuple containing the shape, size, and data type of the array.\n",
    "    \"\"\"\n",
    "    shape = arr.shape\n",
    "    size = arr.size\n",
    "    dtype = arr.dtype\n",
    "    \n",
    "    return shape, size, dtype\n",
    "\n",
    "# Example usage\n",
    "arr = np.array([[1, 2, 3], [4, 5, 6]])\n",
    "shape, size, dtype = array_attributes(arr)\n",
    "\n",
    "print(\"Shape:\", shape)\n",
    "print(\"Size:\", size)\n",
    "print(\"Data type:\", dtype)"
   ]
  },
  {
   "cell_type": "code",
   "execution_count": 15,
   "id": "2d31bbe8-19f8-42da-9ef5-c9427dfd8878",
   "metadata": {},
   "outputs": [],
   "source": [
    "# 7. Create a function array_dimension that takes a NumPy array as input and returns its dimensionality."
   ]
  },
  {
   "cell_type": "code",
   "execution_count": 16,
   "id": "c3ea28df-ef0c-4ca3-b24d-f65ea86f5660",
   "metadata": {},
   "outputs": [
    {
     "name": "stdout",
     "output_type": "stream",
     "text": [
      "Dimensionality: 2\n"
     ]
    }
   ],
   "source": [
    "def array_dimension(arr):\n",
    "    \"\"\"\n",
    "    Takes a NumPy array as input and returns its dimensionality.\n",
    "    \n",
    "    Parameters:\n",
    "    arr (np.ndarray): The input NumPy array.\n",
    "    \n",
    "    Returns:\n",
    "    int: The number of dimensions (or rank) of the array.\n",
    "    \"\"\"\n",
    "    return arr.ndim\n",
    "\n",
    "# Example usage\n",
    "arr = np.array([[1, 2, 3], [4, 5, 6]])\n",
    "dimensionality = array_dimension(arr)\n",
    "\n",
    "print(\"Dimensionality:\", dimensionality)"
   ]
  },
  {
   "cell_type": "code",
   "execution_count": 17,
   "id": "67d10b58-86e3-486e-bf42-4d74d8d1fb67",
   "metadata": {},
   "outputs": [],
   "source": [
    "# 8. Design a function item_size_info that takes a NumPy array as input and returns the item size and the total size in bytes."
   ]
  },
  {
   "cell_type": "code",
   "execution_count": 18,
   "id": "436d5fad-17d1-4455-88cc-1b3b89caa648",
   "metadata": {},
   "outputs": [
    {
     "name": "stdout",
     "output_type": "stream",
     "text": [
      "Item size (bytes): 8\n",
      "Total size (bytes): 48\n"
     ]
    }
   ],
   "source": [
    "def item_size_info(arr):\n",
    "    \"\"\"\n",
    "    Takes a NumPy array as input and returns the item size and the total size in bytes.\n",
    "    \n",
    "    Parameters:\n",
    "    arr (np.ndarray): The input NumPy array.\n",
    "    \n",
    "    Returns:\n",
    "    tuple: A tuple containing the item size in bytes and the total size in bytes.\n",
    "    \"\"\"\n",
    "    item_size = arr.itemsize\n",
    "    total_size = arr.nbytes\n",
    "    \n",
    "    return item_size, total_size\n",
    "\n",
    "# Example usage\n",
    "arr = np.array([[1, 2, 3], [4, 5, 6]], dtype=np.float64)\n",
    "item_size, total_size = item_size_info(arr)\n",
    "\n",
    "print(\"Item size (bytes):\", item_size)\n",
    "print(\"Total size (bytes):\", total_size)"
   ]
  },
  {
   "cell_type": "code",
   "execution_count": 19,
   "id": "7be8b402-155a-48a4-bbc4-4648b0b59714",
   "metadata": {},
   "outputs": [],
   "source": [
    "# 9. Create a function array_strides that takes a NumPy array as input and returns the strides of the array."
   ]
  },
  {
   "cell_type": "code",
   "execution_count": 20,
   "id": "c6bc6ae0-fe2e-4270-abc3-8f4e40120e30",
   "metadata": {},
   "outputs": [
    {
     "name": "stdout",
     "output_type": "stream",
     "text": [
      "Strides: (24, 8)\n"
     ]
    }
   ],
   "source": [
    "def array_strides(arr):\n",
    "    \"\"\"\n",
    "    Takes a NumPy array as input and returns the strides of the array.\n",
    "    \n",
    "    Parameters:\n",
    "    arr (np.ndarray): The input NumPy array.\n",
    "    \n",
    "    Returns:\n",
    "    tuple: The strides of the array.\n",
    "    \"\"\"\n",
    "    return arr.strides\n",
    "\n",
    "# Example usage\n",
    "arr = np.array([[1, 2, 3], [4, 5, 6]])\n",
    "strides = array_strides(arr)\n",
    "\n",
    "print(\"Strides:\", strides)"
   ]
  },
  {
   "cell_type": "code",
   "execution_count": 21,
   "id": "d6066cbe-e9f0-44eb-9837-7f48f81c41ad",
   "metadata": {},
   "outputs": [],
   "source": [
    "# 10. Design a function shape_stride_relationship that takes a NumPy array as input and returns the shape and strides of the array."
   ]
  },
  {
   "cell_type": "code",
   "execution_count": 22,
   "id": "c34abdef-b71e-4c1c-93ae-f383018f5f51",
   "metadata": {},
   "outputs": [
    {
     "name": "stdout",
     "output_type": "stream",
     "text": [
      "Shape: (2, 3)\n",
      "Strides: (24, 8)\n"
     ]
    }
   ],
   "source": [
    "def shape_stride_relationship(arr):\n",
    "    \"\"\"\n",
    "    Takes a NumPy array as input and returns the shape and strides of the array.\n",
    "    \n",
    "    Parameters:\n",
    "    arr (np.ndarray): The input NumPy array.\n",
    "    \n",
    "    Returns:\n",
    "    tuple: A tuple containing the shape and strides of the array.\n",
    "    \"\"\"\n",
    "    shape = arr.shape\n",
    "    strides = arr.strides\n",
    "    \n",
    "    return shape, strides\n",
    "\n",
    "arr = np.array([[1, 2, 3], [4, 5, 6]])\n",
    "shape, strides = shape_stride_relationship(arr)\n",
    "\n",
    "print(\"Shape:\", shape)\n",
    "print(\"Strides:\", strides)"
   ]
  },
  {
   "cell_type": "code",
   "execution_count": 23,
   "id": "168849a9-ebe1-4b6a-95d6-f78a25efcf5d",
   "metadata": {},
   "outputs": [],
   "source": [
    "# 11. Create a function `create_zeros_array` that takes an integer `n` as input and returns a NumPy array of zeros with `n` elements."
   ]
  },
  {
   "cell_type": "code",
   "execution_count": 25,
   "id": "af5f7c33-009b-4faf-8604-a62fac74fb37",
   "metadata": {},
   "outputs": [
    {
     "name": "stdout",
     "output_type": "stream",
     "text": [
      "Array of zeros: [0. 0. 0. 0. 0.]\n"
     ]
    }
   ],
   "source": [
    "def create_zeros_array(n):\n",
    "    \"\"\"\n",
    "    Takes an integer n as input and returns a NumPy array of zeros with n elements.\n",
    "    \n",
    "    Parameters:\n",
    "    n (int): The number of elements in the array.\n",
    "    \n",
    "    Returns:\n",
    "    np.ndarray: A NumPy array of zeros with n elements.\n",
    "    \"\"\"\n",
    "    return np.zeros(n)\n",
    "\n",
    "\n",
    "n = 5\n",
    "zeros_array = create_zeros_array(n)\n",
    "\n",
    "print(\"Array of zeros:\", zeros_array)"
   ]
  },
  {
   "cell_type": "code",
   "execution_count": 26,
   "id": "93573225-b670-4d0d-abea-0f5b3654135d",
   "metadata": {},
   "outputs": [],
   "source": [
    "# 12. Write a function `create_ones_matrix` that takes integers `rows` and `cols` as inputs and generates a 2D NumPy array filled with ones of size `rows x cols`."
   ]
  },
  {
   "cell_type": "code",
   "execution_count": 27,
   "id": "bf4e2691-1495-4fa8-8726-f8d4427d2552",
   "metadata": {},
   "outputs": [
    {
     "name": "stdout",
     "output_type": "stream",
     "text": [
      "Matrix of ones:\n",
      "[[1. 1. 1. 1.]\n",
      " [1. 1. 1. 1.]\n",
      " [1. 1. 1. 1.]]\n"
     ]
    }
   ],
   "source": [
    "def create_ones_matrix(rows, cols):\n",
    "    \"\"\"\n",
    "    Takes integers rows and cols as inputs and generates a 2D NumPy array filled with ones.\n",
    "    \n",
    "    Parameters:\n",
    "    rows (int): Number of rows in the matrix.\n",
    "    cols (int): Number of columns in the matrix.\n",
    "    \n",
    "    Returns:\n",
    "    np.ndarray: A 2D NumPy array of ones with dimensions rows x cols.\n",
    "    \"\"\"\n",
    "    return np.ones((rows, cols))\n",
    "\n",
    "rows = 3\n",
    "cols = 4\n",
    "ones_matrix = create_ones_matrix(rows, cols)\n",
    "\n",
    "print(\"Matrix of ones:\")\n",
    "print(ones_matrix)"
   ]
  },
  {
   "cell_type": "code",
   "execution_count": 28,
   "id": "a7d1181c-21bb-43bc-8dd6-b49f74c96238",
   "metadata": {},
   "outputs": [],
   "source": [
    "# 13. Write a function `generate_range_array` that takes three integers start, stop, and step as arguments and creates a NumPy array with a range starting from `start`, ending at stop (exclusive), and with the specified `step`."
   ]
  },
  {
   "cell_type": "code",
   "execution_count": 29,
   "id": "bbe37913-a28c-4b9a-9da2-5ce2b7d90675",
   "metadata": {},
   "outputs": [
    {
     "name": "stdout",
     "output_type": "stream",
     "text": [
      "Range array: [0 2 4 6 8]\n"
     ]
    }
   ],
   "source": [
    "def generate_range_array(start, stop, step):\n",
    "    \"\"\"\n",
    "    Takes integers start, stop, and step as inputs and creates a NumPy array with a range\n",
    "    starting from start, ending at stop (exclusive), and with the specified step.\n",
    "    \n",
    "    Parameters:\n",
    "    start (int): The starting value of the range.\n",
    "    stop (int): The end value of the range (exclusive).\n",
    "    step (int): The step size between values in the range.\n",
    "    \n",
    "    Returns:\n",
    "    np.ndarray: A NumPy array with the specified range.\n",
    "    \"\"\"\n",
    "    return np.arange(start, stop, step)\n",
    "\n",
    "start = 0\n",
    "stop = 10\n",
    "step = 2\n",
    "range_array = generate_range_array(start, stop, step)\n",
    "\n",
    "print(\"Range array:\", range_array)"
   ]
  },
  {
   "cell_type": "code",
   "execution_count": 30,
   "id": "9b59d090-05cb-4eee-9c46-77ca54e2ac0c",
   "metadata": {},
   "outputs": [],
   "source": [
    "# 14. Design a function `generate_linear_space` that takes two floats `start`, `stop`, and an integer `num` as arguments and generates a NumPy array with num equally spaced values between `start` and `stop` (inclusive)."
   ]
  },
  {
   "cell_type": "code",
   "execution_count": 31,
   "id": "880af884-fc73-4709-a6bd-a8b2ab7415b2",
   "metadata": {},
   "outputs": [
    {
     "name": "stdout",
     "output_type": "stream",
     "text": [
      "Linear space array: [1.         1.44444444 1.88888889 2.33333333 2.77777778 3.22222222\n",
      " 3.66666667 4.11111111 4.55555556 5.        ]\n"
     ]
    }
   ],
   "source": [
    "def generate_linear_space(start, stop, num):\n",
    "    \"\"\"\n",
    "    Takes two floats start, stop, and an integer num as inputs and generates a NumPy array\n",
    "    with num equally spaced values between start and stop (inclusive).\n",
    "    \n",
    "    Parameters:\n",
    "    start (float): The starting value of the range.\n",
    "    stop (float): The end value of the range (inclusive).\n",
    "    num (int): The number of equally spaced values to generate.\n",
    "    \n",
    "    Returns:\n",
    "    np.ndarray: A NumPy array with num equally spaced values from start to stop (inclusive).\n",
    "    \"\"\"\n",
    "    return np.linspace(start, stop, num)\n",
    "\n",
    "start = 1.0\n",
    "stop = 5.0\n",
    "num = 10\n",
    "linear_space_array = generate_linear_space(start, stop, num)\n",
    "\n",
    "print(\"Linear space array:\", linear_space_array)"
   ]
  },
  {
   "cell_type": "code",
   "execution_count": 32,
   "id": "abf0c457-1bf0-4554-a7a1-19296e255884",
   "metadata": {},
   "outputs": [],
   "source": [
    "# 15. Create a function `create_identity_matrix` that takes an integer `n` as input and generates a square identity matrix of size `n x n` using `numpy.eye`."
   ]
  },
  {
   "cell_type": "code",
   "execution_count": 33,
   "id": "c81a0114-7b08-46bc-b2c5-83d4628c39b0",
   "metadata": {},
   "outputs": [
    {
     "name": "stdout",
     "output_type": "stream",
     "text": [
      "Identity matrix:\n",
      "[[1. 0. 0. 0.]\n",
      " [0. 1. 0. 0.]\n",
      " [0. 0. 1. 0.]\n",
      " [0. 0. 0. 1.]]\n"
     ]
    }
   ],
   "source": [
    "def create_identity_matrix(n):\n",
    "    \"\"\"\n",
    "    Takes an integer n as input and generates a square identity matrix of size n x n.\n",
    "    \n",
    "    Parameters:\n",
    "    n (int): The size of the identity matrix.\n",
    "    \n",
    "    Returns:\n",
    "    np.ndarray: An n x n identity matrix.\n",
    "    \"\"\"\n",
    "    return np.eye(n)\n",
    "\n",
    "n = 4\n",
    "identity_matrix = create_identity_matrix(n)\n",
    "\n",
    "print(\"Identity matrix:\")\n",
    "print(identity_matrix)"
   ]
  },
  {
   "cell_type": "code",
   "execution_count": 34,
   "id": "ec35e1d2-0fe0-4905-8aaa-91fc19efbbfb",
   "metadata": {},
   "outputs": [],
   "source": [
    "# 16. Write a function that takes a Python list and converts it into a NumPy array."
   ]
  },
  {
   "cell_type": "code",
   "execution_count": 35,
   "id": "77da8929-d639-4109-8237-8ebb9a9b2e9c",
   "metadata": {},
   "outputs": [
    {
     "name": "stdout",
     "output_type": "stream",
     "text": [
      "NumPy array: [1 2 3 4 5]\n"
     ]
    }
   ],
   "source": [
    "def list_to_array(py_list):\n",
    "    \"\"\"\n",
    "    Takes a Python list and converts it into a NumPy array.\n",
    "    \n",
    "    Parameters:\n",
    "    py_list (list): The input Python list to be converted.\n",
    "    \n",
    "    Returns:\n",
    "    np.ndarray: The NumPy array converted from the Python list.\n",
    "    \"\"\"\n",
    "    return np.array(py_list)\n",
    "\n",
    "py_list = [1, 2, 3, 4, 5]\n",
    "array = list_to_array(py_list)\n",
    "\n",
    "print(\"NumPy array:\", array)"
   ]
  },
  {
   "cell_type": "code",
   "execution_count": 36,
   "id": "c61f4b34-1e35-4f87-b510-2f5d3fb35198",
   "metadata": {},
   "outputs": [],
   "source": [
    "# 17. Create a NumPy array and demonstrate the use of `numpy.view` to create a new array object with the  same data."
   ]
  },
  {
   "cell_type": "code",
   "execution_count": 37,
   "id": "028bdbb9-3d9d-45d5-9acf-ceba7ac4fb1d",
   "metadata": {},
   "outputs": [
    {
     "name": "stdout",
     "output_type": "stream",
     "text": [
      "Original array:\n",
      "[1 2 3 4 5 6 7 8]\n",
      "Original array data type: int32\n",
      "\n",
      "View array:\n",
      "[1.4e-45 2.8e-45 4.2e-45 5.6e-45 7.0e-45 8.4e-45 9.8e-45 1.1e-44]\n",
      "View array data type: float32\n"
     ]
    }
   ],
   "source": [
    "original_array = np.array([1, 2, 3, 4, 5, 6, 7, 8], dtype=np.int32)\n",
    "\n",
    "view_array = original_array.view(dtype=np.float32)\n",
    "\n",
    "print(\"Original array:\")\n",
    "print(original_array)\n",
    "print(\"Original array data type:\", original_array.dtype)\n",
    "\n",
    "print(\"\\nView array:\")\n",
    "print(view_array)\n",
    "print(\"View array data type:\", view_array.dtype)"
   ]
  },
  {
   "cell_type": "code",
   "execution_count": 38,
   "id": "410666e4-22a7-474b-810e-f1b91dcc5893",
   "metadata": {},
   "outputs": [],
   "source": [
    "# 18. Write a function that takes two NumPy arrays and concatenates them along a specified axis."
   ]
  },
  {
   "cell_type": "code",
   "execution_count": 39,
   "id": "1cf03c09-2d69-4862-979e-f99f3f0283e5",
   "metadata": {},
   "outputs": [
    {
     "name": "stdout",
     "output_type": "stream",
     "text": [
      "Concatenated along axis 0:\n",
      "[[ 1  2  3]\n",
      " [ 4  5  6]\n",
      " [ 7  8  9]\n",
      " [10 11 12]]\n",
      "\n",
      "Concatenated along axis 1:\n",
      "[[ 1  2  3  7  8  9]\n",
      " [ 4  5  6 10 11 12]]\n"
     ]
    }
   ],
   "source": [
    "def concatenate_arrays(arr1, arr2, axis=0):\n",
    "    \"\"\"\n",
    "    Takes two NumPy arrays and concatenates them along the specified axis.\n",
    "    \n",
    "    Parameters:\n",
    "    arr1 (np.ndarray): The first NumPy array.\n",
    "    arr2 (np.ndarray): The second NumPy array.\n",
    "    axis (int): The axis along which to concatenate. Default is 0.\n",
    "    \n",
    "    Returns:\n",
    "    np.ndarray: The concatenated NumPy array.\n",
    "    \"\"\"\n",
    "    return np.concatenate((arr1, arr2), axis=axis)\n",
    "\n",
    "arr1 = np.array([[1, 2, 3], [4, 5, 6]])\n",
    "arr2 = np.array([[7, 8, 9], [10, 11, 12]])\n",
    "\n",
    "result_axis0 = concatenate_arrays(arr1, arr2, axis=0)\n",
    "\n",
    "result_axis1 = concatenate_arrays(arr1, arr2, axis=1)\n",
    "\n",
    "print(\"Concatenated along axis 0:\")\n",
    "print(result_axis0)\n",
    "\n",
    "print(\"\\nConcatenated along axis 1:\")\n",
    "print(result_axis1)"
   ]
  },
  {
   "cell_type": "code",
   "execution_count": 40,
   "id": "b5731922-5fe2-409c-9a95-ce8788c68f7e",
   "metadata": {},
   "outputs": [],
   "source": [
    "# 19. Create two NumPy arrays with different shapes and concatenate them horizontally using `numpy. concatenate`."
   ]
  },
  {
   "cell_type": "code",
   "execution_count": 42,
   "id": "3d22ddeb-490c-441f-93f7-578315324ce7",
   "metadata": {},
   "outputs": [
    {
     "name": "stdout",
     "output_type": "stream",
     "text": [
      "Array 1:\n",
      "[[1 2 3]\n",
      " [4 5 6]]\n",
      "Array 2:\n",
      "[[ 7  8]\n",
      " [ 9 10]]\n",
      "\n",
      "Concatenated Array:\n",
      "[[ 1  2  3  7  8]\n",
      " [ 4  5  6  9 10]]\n"
     ]
    }
   ],
   "source": [
    "arr1 = np.array([[1, 2, 3], [4, 5, 6]])  \n",
    "arr2 = np.array([[7, 8], [9, 10]])       \n",
    "\n",
    "concatenated_array = np.concatenate((arr1, arr2), axis=1)\n",
    "\n",
    "print(\"Array 1:\")\n",
    "print(arr1)\n",
    "print(\"Array 2:\")\n",
    "print(arr2)\n",
    "\n",
    "print(\"\\nConcatenated Array:\")\n",
    "print(concatenated_array)"
   ]
  },
  {
   "cell_type": "code",
   "execution_count": 43,
   "id": "7e487e80-f2dd-4d1c-8f93-5adadb3f28b4",
   "metadata": {},
   "outputs": [],
   "source": [
    "# 20. Write a function that vertically stacks multiple NumPy arrays given as a list."
   ]
  },
  {
   "cell_type": "code",
   "execution_count": 44,
   "id": "3d178713-e496-4a28-8f53-97d266cbb819",
   "metadata": {},
   "outputs": [
    {
     "name": "stdout",
     "output_type": "stream",
     "text": [
      "Stacked Array:\n",
      "[[ 1  2  3]\n",
      " [ 4  5  6]\n",
      " [ 7  8  9]\n",
      " [10 11 12]\n",
      " [13 14 15]\n",
      " [16 17 18]]\n"
     ]
    }
   ],
   "source": [
    "def vertical_stack(arrays):\n",
    "    \"\"\"\n",
    "    Vertically stacks multiple NumPy arrays given as a list.\n",
    "    \n",
    "    Parameters:\n",
    "    arrays (list of np.ndarray): A list of NumPy arrays to be stacked vertically.\n",
    "    \n",
    "    Returns:\n",
    "    np.ndarray: A NumPy array obtained by vertically stacking the input arrays.\n",
    "    \"\"\"\n",
    "    return np.vstack(arrays)\n",
    "\n",
    "array1 = np.array([[1, 2, 3], [4, 5, 6]])\n",
    "array2 = np.array([[7, 8, 9], [10, 11, 12]])\n",
    "array3 = np.array([[13, 14, 15], [16, 17, 18]])\n",
    "\n",
    "arrays = [array1, array2, array3]\n",
    "\n",
    "stacked_array = vertical_stack(arrays)\n",
    "\n",
    "print(\"Stacked Array:\")\n",
    "print(stacked_array)"
   ]
  },
  {
   "cell_type": "code",
   "execution_count": 45,
   "id": "16806225-a94a-45fb-8188-def16ded1523",
   "metadata": {},
   "outputs": [],
   "source": [
    "# 21. Write a Python function using NumPy to create an array of integers within a specified range (inclusive) with a given step size"
   ]
  },
  {
   "cell_type": "code",
   "execution_count": 46,
   "id": "e296127c-b02f-4806-94c0-0642b9407582",
   "metadata": {},
   "outputs": [
    {
     "name": "stdout",
     "output_type": "stream",
     "text": [
      "Range array: [ 5  8 11 14 17 20]\n"
     ]
    }
   ],
   "source": [
    "def create_range_array(start, stop, step):\n",
    "    \"\"\"\n",
    "    Creates a NumPy array of integers within a specified range (inclusive) with a given step size.\n",
    "    \n",
    "    Parameters:\n",
    "    start (int): The starting value of the range.\n",
    "    stop (int): The end value of the range (inclusive).\n",
    "    step (int): The step size between values in the range.\n",
    "    \n",
    "    Returns:\n",
    "    np.ndarray: A NumPy array of integers within the specified range and step size.\n",
    "    \"\"\"\n",
    "    return np.arange(start, stop + step, step)\n",
    "\n",
    "start = 5\n",
    "stop = 20\n",
    "step = 3\n",
    "range_array = create_range_array(start, stop, step)\n",
    "\n",
    "print(\"Range array:\", range_array)"
   ]
  },
  {
   "cell_type": "code",
   "execution_count": 47,
   "id": "1191990f-2137-41da-8a05-f29bb9a28180",
   "metadata": {},
   "outputs": [],
   "source": [
    "# 22. Write a Python function using NumPy to generate an array of 10 equally spaced values between 0 and 1 (inclusive)."
   ]
  },
  {
   "cell_type": "code",
   "execution_count": 55,
   "id": "6076a570-3e24-44e6-a042-11d90db4ddee",
   "metadata": {},
   "outputs": [
    {
     "name": "stdout",
     "output_type": "stream",
     "text": [
      "Equally spaced array: [0.         0.11111111 0.22222222 0.33333333 0.44444444 0.55555556\n",
      " 0.66666667 0.77777778 0.88888889 1.        ]\n"
     ]
    }
   ],
   "source": [
    "def generate_equally_spaced_array(start, stop, num):\n",
    "    \"\"\"\n",
    "    Generates a NumPy array of equally spaced values between start and stop (inclusive).\n",
    "    \n",
    "    Parameters:\n",
    "    start (float): The starting value of the range.\n",
    "    stop (float): The end value of the range (inclusive).\n",
    "    num (int): The number of equally spaced values to generate.\n",
    "    \n",
    "    Returns:\n",
    "    np.ndarray: A NumPy array of equally spaced values from start to stop (inclusive).\n",
    "    \"\"\"\n",
    "    return np.linspace(start, stop, num)\n",
    "\n",
    "start = 0\n",
    "stop = 1\n",
    "num = 10\n",
    "equally_spaced_array = generate_equally_spaced_array(start, stop, num)\n",
    "\n",
    "print(\"Equally spaced array:\", equally_spaced_array)"
   ]
  },
  {
   "cell_type": "code",
   "execution_count": 56,
   "id": "0cb925e9-8b6d-4588-978d-2ae2a7e57e72",
   "metadata": {},
   "outputs": [],
   "source": [
    "# 23. Write a Python function using NumPy to create an array of 5 logarithmically spaced values between 1 and 1000 (inclusive)."
   ]
  },
  {
   "cell_type": "code",
   "execution_count": 57,
   "id": "db8917cc-2de8-4446-b196-c1674a289b56",
   "metadata": {},
   "outputs": [
    {
     "name": "stdout",
     "output_type": "stream",
     "text": [
      "Logarithmically spaced array: [   1.            5.62341325   31.6227766   177.827941   1000.        ]\n"
     ]
    }
   ],
   "source": [
    "def create_logarithmic_space(start, stop, num):\n",
    "    \"\"\"\n",
    "    Creates a NumPy array of logarithmically spaced values between start and stop (inclusive).\n",
    "    \n",
    "    Parameters:\n",
    "    start (float): The starting value (base 10 exponent) of the range.\n",
    "    stop (float): The end value (base 10 exponent) of the range.\n",
    "    num (int): The number of logarithmically spaced values to generate.\n",
    "    \n",
    "    Returns:\n",
    "    np.ndarray: A NumPy array of logarithmically spaced values from start to stop (inclusive).\n",
    "    \"\"\"\n",
    "    return np.logspace(start, stop, num)\n",
    "\n",
    "start = 0  \n",
    "stop = 3 \n",
    "num = 5    \n",
    "\n",
    "logarithmic_array = create_logarithmic_space(start, stop, num)\n",
    "\n",
    "print(\"Logarithmically spaced array:\", logarithmic_array)"
   ]
  },
  {
   "cell_type": "code",
   "execution_count": 58,
   "id": "edfd8980-b19f-4d13-b0d2-ac512749b481",
   "metadata": {},
   "outputs": [],
   "source": [
    "# 24. Create a Pandas DataFrame using a NumPy array that contains 5 rows and 3 columns, where the values are random integers between 1 and 100."
   ]
  },
  {
   "cell_type": "code",
   "execution_count": 59,
   "id": "b9485961-0942-4348-8e86-363971dd83c2",
   "metadata": {},
   "outputs": [
    {
     "name": "stdout",
     "output_type": "stream",
     "text": [
      "DataFrame:\n",
      "   Column1  Column2  Column3\n",
      "0       45       48       65\n",
      "1       68       68       10\n",
      "2       84       22       37\n",
      "3       88       71       89\n",
      "4       89       13       59\n"
     ]
    }
   ],
   "source": [
    "import numpy as np\n",
    "import pandas as pd\n",
    "\n",
    "np.random.seed(0)  \n",
    "data = np.random.randint(1, 101, size=(5, 3))\n",
    "\n",
    "df = pd.DataFrame(data, columns=['Column1', 'Column2', 'Column3'])\n",
    "\n",
    "print(\"DataFrame:\")\n",
    "print(df)"
   ]
  },
  {
   "cell_type": "code",
   "execution_count": 60,
   "id": "73f8cf11-57da-4d4a-960a-2719b129891b",
   "metadata": {},
   "outputs": [],
   "source": [
    "# 25. Write a function that takes a Pandas DataFrame and replaces all negative values in a specific column with zeros. Use NumPy operations within the Pandas DataFrame."
   ]
  },
  {
   "cell_type": "code",
   "execution_count": 61,
   "id": "ee13e7e7-ae76-451f-a4a0-4bc4f502351d",
   "metadata": {},
   "outputs": [
    {
     "name": "stdout",
     "output_type": "stream",
     "text": [
      "Original DataFrame:\n",
      "    A  B  C\n",
      "0  10 -1  0\n",
      "1  -5  2 -1\n",
      "2   3 -3  2\n",
      "3  -1  4 -3\n",
      "4   7  5  4\n",
      "\n",
      "Modified DataFrame:\n",
      "    A  B  C\n",
      "0  10 -1  0\n",
      "1   0  2 -1\n",
      "2   3 -3  2\n",
      "3   0  4 -3\n",
      "4   7  5  4\n"
     ]
    }
   ],
   "source": [
    "\n",
    "def replace_negatives_with_zero(df, column_name):\n",
    "    \"\"\"\n",
    "    Replaces all negative values in the specified column of the DataFrame with zeros.\n",
    "    \n",
    "    Parameters:\n",
    "    df (pd.DataFrame): The input DataFrame.\n",
    "    column_name (str): The name of the column in which to replace negative values.\n",
    "    \n",
    "    Returns:\n",
    "    pd.DataFrame: The DataFrame with negative values replaced by zeros in the specified column.\n",
    "    \"\"\"\n",
    "    if column_name not in df.columns:\n",
    "        raise ValueError(f\"Column '{column_name}' does not exist in the DataFrame.\")\n",
    "    \n",
    "    df[column_name] = np.where(df[column_name] < 0, 0, df[column_name])\n",
    "    \n",
    "    return df\n",
    "\n",
    "data = {\n",
    "    'A': [10, -5, 3, -1, 7],\n",
    "    'B': [-1, 2, -3, 4, 5],\n",
    "    'C': [0, -1, 2, -3, 4]\n",
    "}\n",
    "df = pd.DataFrame(data)\n",
    "\n",
    "print(\"Original DataFrame:\")\n",
    "print(df)\n",
    "\n",
    "df_modified = replace_negatives_with_zero(df, 'A')\n",
    "\n",
    "print(\"\\nModified DataFrame:\")\n",
    "print(df_modified)"
   ]
  },
  {
   "cell_type": "code",
   "execution_count": 1,
   "id": "c3b38f59-99ca-4942-9550-ca354ade6033",
   "metadata": {},
   "outputs": [],
   "source": [
    "#  26. Access the 3rd element from the given NumPy array."
   ]
  },
  {
   "cell_type": "code",
   "execution_count": 3,
   "id": "54379480-2f23-43c4-8236-e8ff56ea4164",
   "metadata": {},
   "outputs": [
    {
     "name": "stdout",
     "output_type": "stream",
     "text": [
      "30\n"
     ]
    }
   ],
   "source": [
    "import numpy as np\n",
    "\n",
    "arr = np.array([10, 20, 30, 40, 50])\n",
    "third_element = arr[2]\n",
    "\n",
    "print(third_element)"
   ]
  },
  {
   "cell_type": "code",
   "execution_count": 4,
   "id": "c763464f-c817-4ef2-9b2b-8d3f5a6c36f1",
   "metadata": {},
   "outputs": [],
   "source": [
    "# 27. Retrieve the element at index (1, 2) from the 2D NumPy array."
   ]
  },
  {
   "cell_type": "code",
   "execution_count": 5,
   "id": "35a9bbb4-ad2a-491e-ad68-0181254e6942",
   "metadata": {},
   "outputs": [
    {
     "name": "stdout",
     "output_type": "stream",
     "text": [
      "6\n"
     ]
    }
   ],
   "source": [
    "\n",
    "arr_2d = np.array([[1, 2, 3],\n",
    "                   [4, 5, 6],\n",
    "                   [7, 8, 9]])\n",
    "\n",
    "element = arr_2d[1, 2]\n",
    "\n",
    "print(element)"
   ]
  },
  {
   "cell_type": "code",
   "execution_count": 6,
   "id": "73fcde07-27bc-4cdc-aea2-ed35dd5957f6",
   "metadata": {},
   "outputs": [],
   "source": [
    "#  28. Using boolean indexing, extract elements greater than 5 from the given NumPy array."
   ]
  },
  {
   "cell_type": "code",
   "execution_count": 7,
   "id": "e4cee8b0-1f07-4e1d-a84e-feedcd076d3c",
   "metadata": {},
   "outputs": [
    {
     "name": "stdout",
     "output_type": "stream",
     "text": [
      "[ 8 10  7]\n"
     ]
    }
   ],
   "source": [
    "\n",
    "arr = np.array([3, 8, 2, 10, 5, 7])\n",
    "elements_greater_than_5 = arr[arr > 5]\n",
    "\n",
    "print(elements_greater_than_5)"
   ]
  },
  {
   "cell_type": "code",
   "execution_count": 8,
   "id": "b29361ac-e86d-40cf-85b4-2cc15ed7432a",
   "metadata": {},
   "outputs": [],
   "source": [
    "#  29. Perform basic slicing to extract elements from index 2 to 5 (inclusive) from the given NumPy array."
   ]
  },
  {
   "cell_type": "code",
   "execution_count": 9,
   "id": "8bf3dfa5-4b9d-48c8-b8c7-e7a97828c6dc",
   "metadata": {},
   "outputs": [
    {
     "name": "stdout",
     "output_type": "stream",
     "text": [
      "[3 4 5 6]\n"
     ]
    }
   ],
   "source": [
    "arr = np.array([1, 2, 3, 4, 5, 6, 7, 8, 9])\n",
    "sliced_elements = arr[2:6]  # The end index is exclusive, so use 6 to include index 5\n",
    "\n",
    "print(sliced_elements)"
   ]
  },
  {
   "cell_type": "code",
   "execution_count": 10,
   "id": "97803961-94ee-430f-aeda-d582f258774a",
   "metadata": {},
   "outputs": [],
   "source": [
    "# 30. Slice the 2D NumPy array to extract the sub-array [[2, 3], [5, 6]] from the given array."
   ]
  },
  {
   "cell_type": "code",
   "execution_count": 11,
   "id": "0d4df38b-c5cb-4971-9cc0-4c1d1f1791a1",
   "metadata": {},
   "outputs": [
    {
     "name": "stdout",
     "output_type": "stream",
     "text": [
      "[[2 3]\n",
      " [5 6]]\n"
     ]
    }
   ],
   "source": [
    "arr_2d = np.array([[1, 2, 3],\n",
    "                   [4, 5, 6],\n",
    "                   [7, 8, 9]])\n",
    "\n",
    "sub_array = arr_2d[0:2, 1:3]\n",
    "\n",
    "print(sub_array)"
   ]
  },
  {
   "cell_type": "code",
   "execution_count": 12,
   "id": "1e0b59c7-75b8-46a3-a233-4a430de29037",
   "metadata": {},
   "outputs": [],
   "source": [
    "# 31.Write a NumPy function to extract elements in specific order from a given 2D array based on indices provided in another array."
   ]
  },
  {
   "cell_type": "code",
   "execution_count": 13,
   "id": "95a51599-7f98-4d98-84b9-1156d50bf341",
   "metadata": {},
   "outputs": [
    {
     "name": "stdout",
     "output_type": "stream",
     "text": [
      "[2 6 7]\n"
     ]
    }
   ],
   "source": [
    "def extract_elements(arr_2d, indices):\n",
    "    \"\"\"\n",
    "    Extract elements from a 2D NumPy array based on indices provided in another array.\n",
    "\n",
    "    Parameters:\n",
    "    arr_2d (numpy.ndarray): The input 2D array.\n",
    "    indices (numpy.ndarray): An array of indices where each row represents [row_index, col_index].\n",
    "\n",
    "    Returns:\n",
    "    numpy.ndarray: An array of extracted elements.\n",
    "    \"\"\"\n",
    "    return arr_2d[indices[:, 0], indices[:, 1]]\n",
    "\n",
    "# Example usage\n",
    "arr_2d = np.array([[1, 2, 3],\n",
    "                   [4, 5, 6],\n",
    "                   [7, 8, 9]])\n",
    "\n",
    "indices = np.array([[0, 1],  # element at row 0, column 1 (2)\n",
    "                    [1, 2],  # element at row 1, column 2 (6)\n",
    "                    [2, 0]]) # element at row 2, column 0 (7)\n",
    "\n",
    "extracted_elements = extract_elements(arr_2d, indices)\n",
    "\n",
    "print(extracted_elements)"
   ]
  },
  {
   "cell_type": "code",
   "execution_count": 14,
   "id": "6c2a6465-9e1c-49ee-9b20-86df5ff0650b",
   "metadata": {},
   "outputs": [],
   "source": [
    "#  32. Create a NumPy function that filters elements greater than a threshold from a given 1D array using boolean indexing."
   ]
  },
  {
   "cell_type": "code",
   "execution_count": 15,
   "id": "5906c373-e161-4c43-82fe-b8a41ac03b89",
   "metadata": {},
   "outputs": [
    {
     "name": "stdout",
     "output_type": "stream",
     "text": [
      "[ 8 10  7]\n"
     ]
    }
   ],
   "source": [
    "def filter_greater_than_threshold(arr, threshold):\n",
    "    \"\"\"\n",
    "    Filters elements from a 1D NumPy array that are greater than a specified threshold.\n",
    "\n",
    "    Parameters:\n",
    "    arr (numpy.ndarray): The input 1D array.\n",
    "    threshold (int or float): The threshold value.\n",
    "\n",
    "    Returns:\n",
    "    numpy.ndarray: An array of elements greater than the threshold.\n",
    "    \"\"\"\n",
    "    return arr[arr > threshold]\n",
    "\n",
    "# Example usage\n",
    "arr = np.array([3, 8, 2, 10, 5, 7])\n",
    "threshold = 5\n",
    "\n",
    "filtered_elements = filter_greater_than_threshold(arr, threshold)\n",
    "\n",
    "print(filtered_elements)"
   ]
  },
  {
   "cell_type": "code",
   "execution_count": 16,
   "id": "e4ac3e52-a620-4320-a500-9159501ee2a7",
   "metadata": {},
   "outputs": [],
   "source": [
    "# 33. Develop a NumPy function that extracts specific elements from a 3D array using indices provided in three separate arrays for each dimension."
   ]
  },
  {
   "cell_type": "code",
   "execution_count": 17,
   "id": "71a6e27c-ad27-46ea-b5f1-19fa7653762f",
   "metadata": {},
   "outputs": [
    {
     "name": "stdout",
     "output_type": "stream",
     "text": [
      "[ 6 11 25]\n"
     ]
    }
   ],
   "source": [
    "def extract_elements_3d(arr_3d, indices_dim1, indices_dim2, indices_dim3):\n",
    "    \"\"\"\n",
    "    Extracts specific elements from a 3D NumPy array based on indices provided for each dimension.\n",
    "\n",
    "    Parameters:\n",
    "    arr_3d (numpy.ndarray): The input 3D array.\n",
    "    indices_dim1 (numpy.ndarray): Indices for the first dimension.\n",
    "    indices_dim2 (numpy.ndarray): Indices for the second dimension.\n",
    "    indices_dim3 (numpy.ndarray): Indices for the third dimension.\n",
    "\n",
    "    Returns:\n",
    "    numpy.ndarray: An array of extracted elements.\n",
    "    \"\"\"\n",
    "    return arr_3d[indices_dim1, indices_dim2, indices_dim3]\n",
    "\n",
    "# Example usage\n",
    "arr_3d = np.array([[[ 1,  2,  3],\n",
    "                    [ 4,  5,  6],\n",
    "                    [ 7,  8,  9]],\n",
    "\n",
    "                   [[10, 11, 12],\n",
    "                    [13, 14, 15],\n",
    "                    [16, 17, 18]],\n",
    "\n",
    "                   [[19, 20, 21],\n",
    "                    [22, 23, 24],\n",
    "                    [25, 26, 27]]])\n",
    "\n",
    "indices_dim1 = np.array([0, 1, 2])  # For the first dimension\n",
    "indices_dim2 = np.array([1, 0, 2])  # For the second dimension\n",
    "indices_dim3 = np.array([2, 1, 0])  # For the third dimension\n",
    "\n",
    "extracted_elements = extract_elements_3d(arr_3d, indices_dim1, indices_dim2, indices_dim3)\n",
    "\n",
    "print(extracted_elements)"
   ]
  },
  {
   "cell_type": "code",
   "execution_count": 18,
   "id": "e9d74c0b-47f3-4a20-b30b-4c5a3aed1b88",
   "metadata": {},
   "outputs": [],
   "source": [
    "#  34. Write a NumPy function that returns elements from an array where both two conditions are satisfied using boolean indexing."
   ]
  },
  {
   "cell_type": "code",
   "execution_count": 19,
   "id": "dff9d6ab-e594-43b4-b6df-608d985e5df4",
   "metadata": {},
   "outputs": [
    {
     "name": "stdout",
     "output_type": "stream",
     "text": [
      "[8 7]\n"
     ]
    }
   ],
   "source": [
    "def filter_elements_two_conditions(arr, condition1, condition2):\n",
    "    \"\"\"\n",
    "    Filters elements from a 1D NumPy array where both conditions are satisfied.\n",
    "\n",
    "    Parameters:\n",
    "    arr (numpy.ndarray): The input 1D array.\n",
    "    condition1 (callable): A function representing the first condition (e.g., lambda x: x > 5).\n",
    "    condition2 (callable): A function representing the second condition (e.g., lambda x: x < 10).\n",
    "\n",
    "    Returns:\n",
    "    numpy.ndarray: An array of elements where both conditions are satisfied.\n",
    "    \"\"\"\n",
    "    return arr[condition1(arr) & condition2(arr)]\n",
    "\n",
    "# Example usage\n",
    "arr = np.array([3, 8, 2, 10, 5, 7])\n",
    "\n",
    "# Define two conditions\n",
    "condition1 = lambda x: x > 5\n",
    "condition2 = lambda x: x < 10\n",
    "\n",
    "filtered_elements = filter_elements_two_conditions(arr, condition1, condition2)\n",
    "\n",
    "print(filtered_elements)"
   ]
  },
  {
   "cell_type": "code",
   "execution_count": 20,
   "id": "1b4c9ceb-062b-49e0-a568-3c9f3c1e08a8",
   "metadata": {},
   "outputs": [],
   "source": [
    "#  35. Create a NumPy function that extracts elements from a 2D array using row and column indices provided in separate arrays."
   ]
  },
  {
   "cell_type": "code",
   "execution_count": 21,
   "id": "73c9670c-bcb1-4469-bd5f-7a2934dd902f",
   "metadata": {},
   "outputs": [
    {
     "name": "stdout",
     "output_type": "stream",
     "text": [
      "[20 60 70]\n"
     ]
    }
   ],
   "source": [
    "def extract_elements_2d(arr_2d, row_indices, col_indices):\n",
    "    \"\"\"\n",
    "    Extracts specific elements from a 2D NumPy array based on row and column indices.\n",
    "\n",
    "    Parameters:\n",
    "    arr_2d (numpy.ndarray): The input 2D array.\n",
    "    row_indices (numpy.ndarray): An array of row indices.\n",
    "    col_indices (numpy.ndarray): An array of column indices.\n",
    "\n",
    "    Returns:\n",
    "    numpy.ndarray: An array of extracted elements.\n",
    "    \"\"\"\n",
    "    return arr_2d[row_indices, col_indices]\n",
    "\n",
    "# Example usage\n",
    "arr_2d = np.array([[10, 20, 30],\n",
    "                   [40, 50, 60],\n",
    "                   [70, 80, 90]])\n",
    "\n",
    "row_indices = np.array([0, 1, 2])  # Indices for rows\n",
    "col_indices = np.array([1, 2, 0])  # Indices for columns\n",
    "\n",
    "extracted_elements = extract_elements_2d(arr_2d, row_indices, col_indices)\n",
    "\n",
    "print(extracted_elements)"
   ]
  },
  {
   "cell_type": "code",
   "execution_count": 22,
   "id": "e785c9af-ad89-4f11-987c-ccb6f5fe2ccc",
   "metadata": {},
   "outputs": [],
   "source": [
    "#  36. Given an array arr of shape (3, 3), add a scalar value of 5 to each element using NumPy broadcasting."
   ]
  },
  {
   "cell_type": "code",
   "execution_count": 23,
   "id": "aa31b3e0-9894-48f4-a1b7-e76b642fcf35",
   "metadata": {},
   "outputs": [
    {
     "name": "stdout",
     "output_type": "stream",
     "text": [
      "[[ 6  7  8]\n",
      " [ 9 10 11]\n",
      " [12 13 14]]\n"
     ]
    }
   ],
   "source": [
    "arr = np.array([[1, 2, 3],\n",
    "                [4, 5, 6],\n",
    "                [7, 8, 9]])\n",
    "\n",
    "# Scalar value to add\n",
    "scalar = 5\n",
    "\n",
    "# Add scalar to each element of the array\n",
    "result = arr + scalar\n",
    "\n",
    "print(result)"
   ]
  },
  {
   "cell_type": "code",
   "execution_count": 24,
   "id": "05864e2a-a4e1-429f-a510-f7b73f20348e",
   "metadata": {},
   "outputs": [],
   "source": [
    "# 37. Consider two arrays arr1 of shape (1, 3) and arr2 of shape (3, 4). Multiply each row of arr2 by the corresponding element in arr1 using NumPy broadcasting."
   ]
  },
  {
   "cell_type": "code",
   "execution_count": 27,
   "id": "e814e09f-dc48-471f-9eb6-d9752168cd22",
   "metadata": {},
   "outputs": [
    {
     "ename": "ValueError",
     "evalue": "operands could not be broadcast together with shapes (3,4) (1,3) ",
     "output_type": "error",
     "traceback": [
      "\u001b[0;31m---------------------------------------------------------------------------\u001b[0m",
      "\u001b[0;31mValueError\u001b[0m                                Traceback (most recent call last)",
      "Cell \u001b[0;32mIn[27], line 10\u001b[0m\n\u001b[1;32m      5\u001b[0m arr2 \u001b[38;5;241m=\u001b[39m np\u001b[38;5;241m.\u001b[39marray([[\u001b[38;5;241m1\u001b[39m, \u001b[38;5;241m2\u001b[39m, \u001b[38;5;241m3\u001b[39m, \u001b[38;5;241m4\u001b[39m],\n\u001b[1;32m      6\u001b[0m                  [\u001b[38;5;241m5\u001b[39m, \u001b[38;5;241m6\u001b[39m, \u001b[38;5;241m7\u001b[39m, \u001b[38;5;241m8\u001b[39m],\n\u001b[1;32m      7\u001b[0m                  [\u001b[38;5;241m9\u001b[39m, \u001b[38;5;241m10\u001b[39m, \u001b[38;5;241m11\u001b[39m, \u001b[38;5;241m12\u001b[39m]])  \u001b[38;5;66;03m# Shape (3, 4)\u001b[39;00m\n\u001b[1;32m      9\u001b[0m \u001b[38;5;66;03m# Multiply each row of arr2 by the corresponding element in arr1\u001b[39;00m\n\u001b[0;32m---> 10\u001b[0m result \u001b[38;5;241m=\u001b[39m \u001b[43marr2\u001b[49m\u001b[43m \u001b[49m\u001b[38;5;241;43m*\u001b[39;49m\u001b[43m \u001b[49m\u001b[43marr1\u001b[49m\n\u001b[1;32m     12\u001b[0m \u001b[38;5;66;03m# Print the result\u001b[39;00m\n\u001b[1;32m     13\u001b[0m \u001b[38;5;28mprint\u001b[39m(\u001b[38;5;124m\"\u001b[39m\u001b[38;5;124mResult of multiplying each row of arr2 by corresponding element in arr1:\u001b[39m\u001b[38;5;124m\"\u001b[39m)\n",
      "\u001b[0;31mValueError\u001b[0m: operands could not be broadcast together with shapes (3,4) (1,3) "
     ]
    }
   ],
   "source": [
    "import numpy as np\n",
    "\n",
    "# Define the arrays\n",
    "arr1 = np.array([[2, 3, 4]])  # Shape (1, 3)\n",
    "arr2 = np.array([[1, 2, 3, 4],\n",
    "                 [5, 6, 7, 8],\n",
    "                 [9, 10, 11, 12]])  # Shape (3, 4)\n",
    "\n",
    "# Multiply each row of arr2 by the corresponding element in arr1\n",
    "result = arr2 * arr1\n",
    "\n",
    "# Print the result\n",
    "print(\"Result of multiplying each row of arr2 by corresponding element in arr1:\")\n",
    "print(result)"
   ]
  },
  {
   "cell_type": "code",
   "execution_count": 28,
   "id": "948f4e19-51e4-45ca-9b64-be8b532b849e",
   "metadata": {},
   "outputs": [],
   "source": [
    "#  38. Given a 1D array arr1 of shape (1, 4) and a 2D array arr2 of shape (4, 3), add arr1 to each row of arr2 using NumPy broadcasting."
   ]
  },
  {
   "cell_type": "code",
   "execution_count": 29,
   "id": "91b26dda-0c4a-45bd-9073-5798574d05a5",
   "metadata": {},
   "outputs": [
    {
     "name": "stdout",
     "output_type": "stream",
     "text": [
      "Result of adding arr1 to each row of arr2:\n",
      "[[ 11  21  31]\n",
      " [ 42  52  62]\n",
      " [ 73  83  93]\n",
      " [104 114 124]]\n"
     ]
    }
   ],
   "source": [
    "arr1 = np.array([[1, 2, 3, 4]])  # Shape (1, 4)\n",
    "arr2 = np.array([[10, 20, 30],\n",
    "                 [40, 50, 60],\n",
    "                 [70, 80, 90],\n",
    "                 [100, 110, 120]])  # Shape (4, 3)\n",
    "\n",
    "# Since arr1 has a shape of (1, 4) and arr2 has a shape of (4, 3), we need to adjust shapes\n",
    "# To add arr1 to each row of arr2, we need to align shapes for broadcasting\n",
    "# Reshape arr1 to be compatible for broadcasting\n",
    "arr1_reshaped = np.array([[1, 2, 3, 4]]).T  # Shape (4, 1)\n",
    "\n",
    "# Add arr1 to each row of arr2\n",
    "result = arr2 + arr1_reshaped\n",
    "\n",
    "# Print the result\n",
    "print(\"Result of adding arr1 to each row of arr2:\")\n",
    "print(result)"
   ]
  },
  {
   "cell_type": "code",
   "execution_count": 30,
   "id": "d671e650-0e57-46ce-a743-7d32ba3968bb",
   "metadata": {},
   "outputs": [],
   "source": [
    "#  39. Consider two arrays arr1 of shape (3, 1) and arr2 of shape (1, 3). Add these arrays using NumPy broadcasting."
   ]
  },
  {
   "cell_type": "code",
   "execution_count": 31,
   "id": "8c2ddd36-acfc-4450-b2f2-9b1b32950129",
   "metadata": {},
   "outputs": [
    {
     "name": "stdout",
     "output_type": "stream",
     "text": [
      "Result of adding arr1 and arr2:\n",
      "[[5 6 7]\n",
      " [6 7 8]\n",
      " [7 8 9]]\n"
     ]
    }
   ],
   "source": [
    "arr1 = np.array([[1], [2], [3]])  # Shape (3, 1)\n",
    "arr2 = np.array([[4, 5, 6]])      # Shape (1, 3)\n",
    "\n",
    "# Add arr1 and arr2 using broadcasting\n",
    "result = arr1 + arr2\n",
    "\n",
    "# Print the result\n",
    "print(\"Result of adding arr1 and arr2:\")\n",
    "print(result)"
   ]
  },
  {
   "cell_type": "code",
   "execution_count": 32,
   "id": "efb315f0-42d7-41bd-9246-79e03b6022b0",
   "metadata": {},
   "outputs": [],
   "source": [
    "#  40. Given arrays arr1 of shape (2, 3) and arr2 of shape (2, 2), perform multiplication using NumPy broadcasting. Handle the shape incompatibility."
   ]
  },
  {
   "cell_type": "code",
   "execution_count": 33,
   "id": "d56cae93-7a27-4492-8c33-111af7adf724",
   "metadata": {},
   "outputs": [
    {
     "name": "stdout",
     "output_type": "stream",
     "text": [
      "Result of multiplication:\n",
      "[[[ 7 14 21]\n",
      "  [ 8 16 24]]\n",
      "\n",
      " [[36 45 54]\n",
      "  [40 50 60]]]\n"
     ]
    }
   ],
   "source": [
    "arr1 = np.array([[1, 2, 3],\n",
    "                 [4, 5, 6]])  # Shape (2, 3)\n",
    "\n",
    "arr2 = np.array([[7, 8],\n",
    "                 [9, 10]])   # Shape (2, 2)\n",
    "\n",
    "# Reshape arr2 to (2, 1, 2) for broadcasting\n",
    "arr2_reshaped = arr2[:, :, np.newaxis]  # Shape (2, 2, 1)\n",
    "\n",
    "# Reshape arr1 to (2, 3, 1) to match the broadcasting requirement\n",
    "arr1_reshaped = arr1[:, np.newaxis, :]  # Shape (2, 1, 3)\n",
    "\n",
    "# Perform multiplication\n",
    "result = arr1_reshaped * arr2_reshaped\n",
    "\n",
    "# Print the result\n",
    "print(\"Result of multiplication:\")\n",
    "print(result)"
   ]
  },
  {
   "cell_type": "code",
   "execution_count": 34,
   "id": "53e5b44a-77fb-40f4-8f1e-a467e2e6d318",
   "metadata": {},
   "outputs": [],
   "source": [
    "#  41. Calculate column-wise mean for the given array:"
   ]
  },
  {
   "cell_type": "code",
   "execution_count": 35,
   "id": "8c8c200d-9e72-46eb-b1cd-65ddd9511a2c",
   "metadata": {},
   "outputs": [
    {
     "name": "stdout",
     "output_type": "stream",
     "text": [
      "Column-wise mean:\n",
      "[2.5 3.5 4.5]\n"
     ]
    }
   ],
   "source": [
    "arr = np.array([[1, 2, 3],\n",
    "                [4, 5, 6]])\n",
    "\n",
    "# Calculate column-wise mean\n",
    "column_wise_mean = np.mean(arr, axis=0)\n",
    "\n",
    "# Print the result\n",
    "print(\"Column-wise mean:\")\n",
    "print(column_wise_mean)"
   ]
  },
  {
   "cell_type": "code",
   "execution_count": 36,
   "id": "62f68a25-c076-435a-a0e9-e4b5904cb812",
   "metadata": {},
   "outputs": [],
   "source": [
    "#  42. Find maximum value in each row of the given array"
   ]
  },
  {
   "cell_type": "code",
   "execution_count": 37,
   "id": "d4c49be4-0c13-4926-a8b6-3ca1d05268ec",
   "metadata": {},
   "outputs": [
    {
     "name": "stdout",
     "output_type": "stream",
     "text": [
      "Maximum value in each row:\n",
      "[3 6]\n"
     ]
    }
   ],
   "source": [
    "arr = np.array([[1, 2, 3],\n",
    "                [4, 5, 6]])\n",
    "\n",
    "# Find maximum value in each row\n",
    "row_max = np.max(arr, axis=1)\n",
    "\n",
    "# Print the result\n",
    "print(\"Maximum value in each row:\")\n",
    "print(row_max)"
   ]
  },
  {
   "cell_type": "code",
   "execution_count": 38,
   "id": "14f8a3c2-dd18-44da-a34f-eba26aa36f7a",
   "metadata": {},
   "outputs": [],
   "source": [
    "#  43. For the given array, find indices of maximum value in each column."
   ]
  },
  {
   "cell_type": "code",
   "execution_count": 39,
   "id": "5fb27fbd-3bed-4cac-b0f2-395fcb3d90e3",
   "metadata": {},
   "outputs": [
    {
     "name": "stdout",
     "output_type": "stream",
     "text": [
      "Indices of maximum value in each column:\n",
      "[1 1 1]\n"
     ]
    }
   ],
   "source": [
    "arr = np.array([[1, 2, 3],\n",
    "                [4, 5, 6]])\n",
    "\n",
    "# Find indices of the maximum value in each column\n",
    "indices_of_max = np.argmax(arr, axis=0)\n",
    "\n",
    "# Print the result\n",
    "print(\"Indices of maximum value in each column:\")\n",
    "print(indices_of_max)"
   ]
  },
  {
   "cell_type": "code",
   "execution_count": 40,
   "id": "eae82c3b-1c51-4154-afe3-20abb6234b40",
   "metadata": {},
   "outputs": [],
   "source": [
    "# 44. For the given array, apply custom function to calculate moving sum along rows."
   ]
  },
  {
   "cell_type": "code",
   "execution_count": 41,
   "id": "b55daf8b-634c-4824-b1f0-b43cfb2e408a",
   "metadata": {},
   "outputs": [
    {
     "name": "stdout",
     "output_type": "stream",
     "text": [
      "Moving sum along rows with window size 2:\n",
      "[[ 3.  5.]\n",
      " [ 9. 11.]]\n"
     ]
    }
   ],
   "source": [
    "def moving_sum(arr, window_size):\n",
    "    \"\"\"\n",
    "    Calculate the moving sum along rows with a specified window size.\n",
    "\n",
    "    Parameters:\n",
    "    arr (numpy.ndarray): The input 2D array.\n",
    "    window_size (int): The size of the moving window.\n",
    "\n",
    "    Returns:\n",
    "    numpy.ndarray: An array containing the moving sums.\n",
    "    \"\"\"\n",
    "    rows, cols = arr.shape\n",
    "    result = np.zeros((rows, cols - window_size + 1))\n",
    "    \n",
    "    for i in range(rows):\n",
    "        for j in range(cols - window_size + 1):\n",
    "            result[i, j] = np.sum(arr[i, j:j + window_size])\n",
    "    \n",
    "    return result\n",
    "\n",
    "# Define the array\n",
    "arr = np.array([[1, 2, 3], [4, 5, 6]])\n",
    "\n",
    "# Specify the window size\n",
    "window_size = 2\n",
    "\n",
    "# Calculate the moving sum along rows\n",
    "moving_sums = moving_sum(arr, window_size)\n",
    "\n",
    "# Print the result\n",
    "print(\"Moving sum along rows with window size 2:\")\n",
    "print(moving_sums)"
   ]
  },
  {
   "cell_type": "code",
   "execution_count": 42,
   "id": "a2521f46-2ee4-4f8b-9a52-89cd26fe94d1",
   "metadata": {},
   "outputs": [],
   "source": [
    "#  45. In the given array, check if all elements in each column are even."
   ]
  },
  {
   "cell_type": "code",
   "execution_count": 43,
   "id": "f92afee6-4460-476d-93d7-1204fb87e7ac",
   "metadata": {},
   "outputs": [
    {
     "name": "stdout",
     "output_type": "stream",
     "text": [
      "Are all elements in each column even?\n",
      "[False False False]\n"
     ]
    }
   ],
   "source": [
    "arr = np.array([[2, 4, 6],\n",
    "                [3, 5, 7]])\n",
    "\n",
    "# Check if all elements in each column are even\n",
    "all_even = np.all(arr % 2 == 0, axis=0)\n",
    "\n",
    "# Print the result\n",
    "print(\"Are all elements in each column even?\")\n",
    "print(all_even)"
   ]
  },
  {
   "cell_type": "code",
   "execution_count": 44,
   "id": "8a0f895c-9ff6-42e7-b9d4-2dd0f7e170df",
   "metadata": {},
   "outputs": [],
   "source": [
    "# 46. Given a NumPy array arr, reshape it into a matrix of dimensions m rows and n columns. Return the reshaped matrix."
   ]
  },
  {
   "cell_type": "code",
   "execution_count": 45,
   "id": "1cdedf63-e4e3-4e81-9837-75eebd8cd82a",
   "metadata": {},
   "outputs": [
    {
     "name": "stdout",
     "output_type": "stream",
     "text": [
      "Are all elements in each column even?\n",
      "[False False False]\n"
     ]
    }
   ],
   "source": [
    "arr = np.array([[2, 4, 6],\n",
    "                [3, 5, 7]])\n",
    "\n",
    "# Check if all elements in each column are even\n",
    "all_even = np.all(arr % 2 == 0, axis=0)\n",
    "\n",
    "# Print the result\n",
    "print(\"Are all elements in each column even?\")\n",
    "print(all_even)"
   ]
  },
  {
   "cell_type": "code",
   "execution_count": 46,
   "id": "a8a58e1c-7f76-403c-bec5-0642f24e28a8",
   "metadata": {},
   "outputs": [],
   "source": [
    "#  47. Create a function that takes a matrix as input and returns the flattened array."
   ]
  },
  {
   "cell_type": "code",
   "execution_count": 47,
   "id": "545bf19e-a691-4f10-96bc-860fb3e20b45",
   "metadata": {},
   "outputs": [
    {
     "name": "stdout",
     "output_type": "stream",
     "text": [
      "Flattened array:\n",
      "[1 2 3 4 5 6]\n"
     ]
    }
   ],
   "source": [
    "def flatten_matrix(matrix):\n",
    "    \"\"\"\n",
    "    Flatten the given matrix into a 1D array.\n",
    "\n",
    "    Parameters:\n",
    "    matrix (numpy.ndarray): The input 2D matrix.\n",
    "\n",
    "    Returns:\n",
    "    numpy.ndarray: The flattened 1D array.\n",
    "    \"\"\"\n",
    "    return matrix.flatten()\n",
    "\n",
    "# Define the input matrix\n",
    "input_matrix = np.array([[1, 2, 3],\n",
    "                         [4, 5, 6]])\n",
    "\n",
    "# Flatten the matrix\n",
    "flattened_array = flatten_matrix(input_matrix)\n",
    "\n",
    "# Print the result\n",
    "print(\"Flattened array:\")\n",
    "print(flattened_array)"
   ]
  },
  {
   "cell_type": "code",
   "execution_count": 48,
   "id": "e06a2f25-36be-44b4-b98e-9ed619b5d7de",
   "metadata": {},
   "outputs": [],
   "source": [
    "#  48. Write a function that concatenates two given arrays along a specified axis."
   ]
  },
  {
   "cell_type": "code",
   "execution_count": 49,
   "id": "f4a4eb28-c63f-4460-8017-7fac6735fed8",
   "metadata": {},
   "outputs": [
    {
     "name": "stdout",
     "output_type": "stream",
     "text": [
      "Concatenated along axis 0:\n",
      "[[1 2]\n",
      " [3 4]\n",
      " [5 6]\n",
      " [7 8]]\n",
      "Concatenated along axis 1:\n",
      "[[1 2 5 6]\n",
      " [3 4 7 8]]\n"
     ]
    }
   ],
   "source": [
    "def concatenate_arrays(array1, array2, axis=0):\n",
    "    \"\"\"\n",
    "    Concatenate two given arrays along the specified axis.\n",
    "\n",
    "    Parameters:\n",
    "    array1 (numpy.ndarray): The first array.\n",
    "    array2 (numpy.ndarray): The second array.\n",
    "    axis (int): The axis along which to concatenate the arrays. Default is 0.\n",
    "\n",
    "    Returns:\n",
    "    numpy.ndarray: The concatenated array.\n",
    "    \"\"\"\n",
    "    return np.concatenate((array1, array2), axis=axis)\n",
    "\n",
    "# Define the input arrays\n",
    "array1 = np.array([[1, 2],\n",
    "                   [3, 4]])\n",
    "\n",
    "array2 = np.array([[5, 6],\n",
    "                   [7, 8]])\n",
    "\n",
    "# Concatenate along axis 0 (rows)\n",
    "result_axis0 = concatenate_arrays(array1, array2, axis=0)\n",
    "\n",
    "# Concatenate along axis 1 (columns)\n",
    "result_axis1 = concatenate_arrays(array1, array2, axis=1)\n",
    "\n",
    "# Print the results\n",
    "print(\"Concatenated along axis 0:\")\n",
    "print(result_axis0)\n",
    "\n",
    "print(\"Concatenated along axis 1:\")\n",
    "print(result_axis1)"
   ]
  },
  {
   "cell_type": "code",
   "execution_count": 50,
   "id": "c5997a26-2a58-43b5-94f8-807aeec4f3e5",
   "metadata": {},
   "outputs": [],
   "source": [
    "#  49. Create a function that splits an array into multiple sub-arrays along a specified axis."
   ]
  },
  {
   "cell_type": "code",
   "execution_count": 51,
   "id": "0352f658-a4a9-4e60-a9dc-0c16ab12c18d",
   "metadata": {},
   "outputs": [
    {
     "name": "stdout",
     "output_type": "stream",
     "text": [
      "Split along axis 0:\n",
      "Sub-array 0:\n",
      "[[1 2 3]]\n",
      "Sub-array 1:\n",
      "[[4 5 6]]\n",
      "Sub-array 2:\n",
      "[[7 8 9]]\n",
      "\n",
      "Split along axis 1:\n",
      "Sub-array 0:\n",
      "[[1 2]\n",
      " [4 5]\n",
      " [7 8]]\n",
      "Sub-array 1:\n",
      "[[3]\n",
      " [6]\n",
      " [9]]\n"
     ]
    }
   ],
   "source": [
    "def split_array(array, num_splits, axis=0):\n",
    "    \"\"\"\n",
    "    Split the given array into multiple sub-arrays along the specified axis.\n",
    "\n",
    "    Parameters:\n",
    "    array (numpy.ndarray): The input array.\n",
    "    num_splits (int): The number of sub-arrays to split into.\n",
    "    axis (int): The axis along which to split the array. Default is 0.\n",
    "\n",
    "    Returns:\n",
    "    list of numpy.ndarray: A list containing the split sub-arrays.\n",
    "    \"\"\"\n",
    "    return np.array_split(array, num_splits, axis=axis)\n",
    "\n",
    "# Define the original array\n",
    "original_array = np.array([[1, 2, 3],\n",
    "                           [4, 5, 6],\n",
    "                           [7, 8, 9]])\n",
    "\n",
    "# Split the array into 3 sub-arrays along axis 0 (rows)\n",
    "split_result_axis0 = split_array(original_array, num_splits=3, axis=0)\n",
    "\n",
    "# Split the array into 2 sub-arrays along axis 1 (columns)\n",
    "split_result_axis1 = split_array(original_array, num_splits=2, axis=1)\n",
    "\n",
    "# Print the results\n",
    "print(\"Split along axis 0:\")\n",
    "for i, sub_array in enumerate(split_result_axis0):\n",
    "    print(f\"Sub-array {i}:\")\n",
    "    print(sub_array)\n",
    "\n",
    "print(\"\\nSplit along axis 1:\")\n",
    "for i, sub_array in enumerate(split_result_axis1):\n",
    "    print(f\"Sub-array {i}:\")\n",
    "    print(sub_array)"
   ]
  },
  {
   "cell_type": "code",
   "execution_count": 52,
   "id": "ff3bda30-ca59-40ae-a86e-0d8f3589c67d",
   "metadata": {},
   "outputs": [],
   "source": [
    "#  50. Write a function that inserts and then deletes elements from a given array at specified indices."
   ]
  },
  {
   "cell_type": "code",
   "execution_count": 53,
   "id": "5c615804-7dae-4173-b71d-7b808b7b2fc7",
   "metadata": {},
   "outputs": [
    {
     "name": "stdout",
     "output_type": "stream",
     "text": [
      "Resulting array after insertion and deletion:\n",
      "[ 1 10 11  4  5]\n"
     ]
    }
   ],
   "source": [
    "def insert_and_delete(array, insert_indices, insert_values, delete_indices):\n",
    "    \"\"\"\n",
    "    Insert and then delete elements from the given array at specified indices.\n",
    "\n",
    "    Parameters:\n",
    "    array (numpy.ndarray): The original array.\n",
    "    insert_indices (list of int): The indices where elements will be inserted.\n",
    "    insert_values (list of int): The values to be inserted.\n",
    "    delete_indices (list of int): The indices of elements to be deleted.\n",
    "\n",
    "    Returns:\n",
    "    numpy.ndarray: The resulting array after insertion and deletion.\n",
    "    \"\"\"\n",
    "    # Insert elements\n",
    "    for index, value in zip(insert_indices, insert_values):\n",
    "        array = np.insert(array, index, value)\n",
    "    \n",
    "    # Delete elements\n",
    "    array = np.delete(array, delete_indices)\n",
    "    \n",
    "    return array\n",
    "\n",
    "# Define the original array\n",
    "original_array = np.array([1, 2, 3, 4, 5])\n",
    "\n",
    "# Define the indices and values for insertion\n",
    "indices_to_insert = [2, 4]\n",
    "values_to_insert = [10, 11]\n",
    "\n",
    "# Define the indices for deletion\n",
    "indices_to_delete = [1, 3]\n",
    "\n",
    "# Perform the insertion and deletion\n",
    "resulting_array = insert_and_delete(original_array, indices_to_insert, values_to_insert, indices_to_delete)\n",
    "\n",
    "# Print the result\n",
    "print(\"Resulting array after insertion and deletion:\")\n",
    "print(resulting_array)"
   ]
  },
  {
   "cell_type": "code",
   "execution_count": 54,
   "id": "f1b965c8-e7e7-4a38-80a0-8c84e7939448",
   "metadata": {},
   "outputs": [],
   "source": [
    "#  51. Create a NumPy array arr1 with random integers and another array arr2 with integers from 1 to 10. Perform element-wise addition between arr1 and arr2."
   ]
  },
  {
   "cell_type": "code",
   "execution_count": 55,
   "id": "4fca2202-e9c0-4b11-b0b4-e812d79df006",
   "metadata": {},
   "outputs": [
    {
     "name": "stdout",
     "output_type": "stream",
     "text": [
      "arr1:\n",
      "[[18  2 14]\n",
      " [11  6 19]\n",
      " [ 4  2  7]]\n",
      "\n",
      "arr2:\n",
      "[[1 2 3]\n",
      " [4 5 6]\n",
      " [7 8 9]]\n",
      "\n",
      "Element-wise addition result:\n",
      "[[19  4 17]\n",
      " [15 11 25]\n",
      " [11 10 16]]\n"
     ]
    }
   ],
   "source": [
    "arr1 = np.random.randint(1, 20, size=(3, 3))  # Example shape (3, 3) and integers between 1 and 20\n",
    "\n",
    "# Create arr2 with integers from 1 to 10\n",
    "arr2 = np.arange(1, 10).reshape(3, 3)  # Reshape to (3, 3) for element-wise addition\n",
    "\n",
    "# Perform element-wise addition\n",
    "result = arr1 + arr2\n",
    "\n",
    "# Print the arrays and the result\n",
    "print(\"arr1:\")\n",
    "print(arr1)\n",
    "\n",
    "print(\"\\narr2:\")\n",
    "print(arr2)\n",
    "\n",
    "print(\"\\nElement-wise addition result:\")\n",
    "print(result)"
   ]
  },
  {
   "cell_type": "code",
   "execution_count": 56,
   "id": "af83a4f1-6efe-471f-a305-af3e8da72cf3",
   "metadata": {},
   "outputs": [],
   "source": [
    "#  52. Generate a NumPy array arr1 with sequential integers from 10 to 1 and another array arr2 with integers from 1 to 10. Subtract arr2 from arr1 element-wise."
   ]
  },
  {
   "cell_type": "code",
   "execution_count": 57,
   "id": "147add56-6742-42d5-8c9d-2e4c3c9d4bfb",
   "metadata": {},
   "outputs": [
    {
     "name": "stdout",
     "output_type": "stream",
     "text": [
      "arr1:\n",
      "[[10  9  8  7  6]\n",
      " [ 5  4  3  2  1]]\n",
      "\n",
      "arr2:\n",
      "[[ 1  2  3  4  5]\n",
      " [ 6  7  8  9 10]]\n",
      "\n",
      "Element-wise subtraction result:\n",
      "[[ 9  7  5  3  1]\n",
      " [-1 -3 -5 -7 -9]]\n"
     ]
    }
   ],
   "source": [
    "arr1 = np.arange(10, 0, -1).reshape(2, 5)  # Example shape (2, 5) with values from 10 to 1\n",
    "\n",
    "# Generate arr2 with integers from 1 to 10\n",
    "arr2 = np.arange(1, 11).reshape(2, 5)  # Example shape (2, 5) with values from 1 to 10\n",
    "\n",
    "# Perform element-wise subtraction\n",
    "result = arr1 - arr2\n",
    "\n",
    "# Print the arrays and the result\n",
    "print(\"arr1:\")\n",
    "print(arr1)\n",
    "\n",
    "print(\"\\narr2:\")\n",
    "print(arr2)\n",
    "\n",
    "print(\"\\nElement-wise subtraction result:\")\n",
    "print(result)"
   ]
  },
  {
   "cell_type": "code",
   "execution_count": 58,
   "id": "1e620d56-d414-4c25-adf8-baf2f23f2d30",
   "metadata": {},
   "outputs": [],
   "source": [
    "#  53. Create a NumPy array arr1 with random integers and another array arr2 with integers from 1 to 5.Perform element-wise multiplication between arr1 and arr2"
   ]
  },
  {
   "cell_type": "code",
   "execution_count": 59,
   "id": "d1038721-5dd8-4227-bf70-dde63a99fd22",
   "metadata": {},
   "outputs": [
    {
     "name": "stdout",
     "output_type": "stream",
     "text": [
      "arr1:\n",
      "[[6 6 8 1 2]\n",
      " [9 3 7 3 1]]\n",
      "\n",
      "arr2 (reshaped):\n",
      "[[1 2 3 4 5]]\n",
      "\n",
      "Element-wise multiplication result:\n",
      "[[ 6 12 24  4 10]\n",
      " [ 9  6 21 12  5]]\n"
     ]
    }
   ],
   "source": [
    "arr1 = np.random.randint(1, 10, size=(2, 5))  # Example shape (2, 5) with integers between 1 and 9\n",
    "\n",
    "# Create arr2 with integers from 1 to 5\n",
    "arr2 = np.arange(1, 6)  # Create a 1D array with integers from 1 to 5\n",
    "\n",
    "# Reshape arr2 to match the shape of arr1 for element-wise multiplication\n",
    "arr2 = arr2.reshape(1, 5)  # Reshape to (1, 5) to match the number of columns in arr1\n",
    "\n",
    "# Perform element-wise multiplication\n",
    "result = arr1 * arr2\n",
    "\n",
    "# Print the arrays and the result\n",
    "print(\"arr1:\")\n",
    "print(arr1)\n",
    "\n",
    "print(\"\\narr2 (reshaped):\")\n",
    "print(arr2)\n",
    "\n",
    "print(\"\\nElement-wise multiplication result:\")\n",
    "print(result)"
   ]
  },
  {
   "cell_type": "code",
   "execution_count": 60,
   "id": "65c46241-60a3-4de7-b4dd-f31ffeb10c55",
   "metadata": {},
   "outputs": [],
   "source": [
    "# 54. Generate a NumPy array arr1 with even integers from 2 to 10 and another array arr2 with integers from 1 to 5. Perform element-wise division of arr1 by arr2."
   ]
  },
  {
   "cell_type": "code",
   "execution_count": 61,
   "id": "30105e47-161a-424a-9fe9-64d49f77bb82",
   "metadata": {},
   "outputs": [
    {
     "name": "stdout",
     "output_type": "stream",
     "text": [
      "arr1:\n",
      "[[ 2  4  6  8 10]]\n",
      "\n",
      "arr2 (reshaped):\n",
      "[[1 2 3 4 5]]\n",
      "\n",
      "Element-wise division result:\n",
      "[[2. 2. 2. 2. 2.]]\n"
     ]
    }
   ],
   "source": [
    "arr1 = np.arange(2, 11, 2)  # Creates an array [2, 4, 6, 8, 10]\n",
    "\n",
    "# Create arr2 with integers from 1 to 5\n",
    "arr2 = np.arange(1, 6)  # Creates an array [1, 2, 3, 4, 5]\n",
    "\n",
    "# Reshape arr2 to match the shape of arr1 for element-wise division\n",
    "arr2 = arr2.reshape(1, 5)  # Reshape to (1, 5) for broadcasting\n",
    "\n",
    "# Reshape arr1 to match the shape of arr2 for element-wise division\n",
    "arr1 = arr1.reshape(1, 5)  # Reshape to (1, 5) for compatibility with arr2\n",
    "\n",
    "# Perform element-wise division\n",
    "result = arr1 / arr2\n",
    "\n",
    "# Print the arrays and the result\n",
    "print(\"arr1:\")\n",
    "print(arr1)\n",
    "\n",
    "print(\"\\narr2 (reshaped):\")\n",
    "print(arr2)\n",
    "\n",
    "print(\"\\nElement-wise division result:\")\n",
    "print(result)"
   ]
  },
  {
   "cell_type": "code",
   "execution_count": 62,
   "id": "21fe1b62-f18e-466f-a7eb-7b83d2b4aa9a",
   "metadata": {},
   "outputs": [],
   "source": [
    "# 55. Create a NumPy array arr1 with integers from 1 to 5 and another array arr2 with the same numbers reversed. Calculate the exponentiation of arr1 raised to the power of arr2 element-wise"
   ]
  },
  {
   "cell_type": "code",
   "execution_count": 63,
   "id": "36a3d984-99da-4e1b-aeea-2700ea5a3459",
   "metadata": {},
   "outputs": [
    {
     "name": "stdout",
     "output_type": "stream",
     "text": [
      "arr1:\n",
      "[1 2 3 4 5]\n",
      "\n",
      "arr2 (reversed):\n",
      "[5 4 3 2 1]\n",
      "\n",
      "Element-wise exponentiation result:\n",
      "[ 1 16 27 16  5]\n"
     ]
    }
   ],
   "source": [
    "arr1 = np.arange(1, 6)  # Creates an array [1, 2, 3, 4, 5]\n",
    "\n",
    "# Create arr2 with the same numbers reversed\n",
    "arr2 = np.arange(1, 6)[::-1]  # Reverses the array to [5, 4, 3, 2, 1]\n",
    "\n",
    "# Perform element-wise exponentiation\n",
    "result = np.power(arr1, arr2)\n",
    "\n",
    "# Print the arrays and the result\n",
    "print(\"arr1:\")\n",
    "print(arr1)\n",
    "\n",
    "print(\"\\narr2 (reversed):\")\n",
    "print(arr2)\n",
    "\n",
    "print(\"\\nElement-wise exponentiation result:\")\n",
    "print(result)"
   ]
  },
  {
   "cell_type": "code",
   "execution_count": 64,
   "id": "52801a1a-98c6-4e9d-973d-652640998304",
   "metadata": {},
   "outputs": [],
   "source": [
    "#  56. Write a function that counts the occurrences of a specific substring within a NumPy array of strings."
   ]
  },
  {
   "cell_type": "code",
   "execution_count": 65,
   "id": "9b2c8771-5042-46a5-9460-bba25943bdfb",
   "metadata": {},
   "outputs": [
    {
     "name": "stdout",
     "output_type": "stream",
     "text": [
      "The substring 'hello' occurs 3 times in the array.\n"
     ]
    }
   ],
   "source": [
    "def count_substring_occurrences(arr, substring):\n",
    "    \"\"\"\n",
    "    Count the occurrences of a specific substring within a NumPy array of strings.\n",
    "\n",
    "    Parameters:\n",
    "    arr (numpy.ndarray): Array of strings.\n",
    "    substring (str): Substring to search for.\n",
    "\n",
    "    Returns:\n",
    "    int: Number of occurrences of the substring.\n",
    "    \"\"\"\n",
    "    # Convert array to a list of strings and check if each string contains the substring\n",
    "    occurrences = np.char.find(arr, substring) != -1  # Returns True if substring is found\n",
    "    return np.sum(occurrences)  # Count the number of True values\n",
    "\n",
    "# Define the NumPy array of strings\n",
    "arr = np.array(['hello', 'world', 'hello', 'numpy', 'hello'])\n",
    "\n",
    "# Define the substring to search for\n",
    "substring = 'hello'\n",
    "\n",
    "# Count the occurrences of the substring\n",
    "count = count_substring_occurrences(arr, substring)\n",
    "\n",
    "# Print the result\n",
    "print(f\"The substring '{substring}' occurs {count} times in the array.\")"
   ]
  },
  {
   "cell_type": "code",
   "execution_count": 66,
   "id": "9c71d810-4c72-458f-9fd5-9f307d8f232e",
   "metadata": {},
   "outputs": [],
   "source": [
    "#  57. Write a function that extracts uppercase characters from a NumPy array of strings."
   ]
  },
  {
   "cell_type": "code",
   "execution_count": 67,
   "id": "a1e5b38e-0b29-4002-bfbb-07a1e2b62379",
   "metadata": {},
   "outputs": [
    {
     "name": "stdout",
     "output_type": "stream",
     "text": [
      "Uppercase characters extracted from the array:\n",
      "['H', 'W', 'O', 'A', 'I', 'G', 'P', 'T']\n"
     ]
    }
   ],
   "source": [
    "\n",
    "def extract_uppercase_chars(arr):\n",
    "    \"\"\"\n",
    "    Extract uppercase characters from a NumPy array of strings.\n",
    "\n",
    "    Parameters:\n",
    "    arr (numpy.ndarray): Array of strings.\n",
    "\n",
    "    Returns:\n",
    "    list: List of uppercase characters extracted from the array.\n",
    "    \"\"\"\n",
    "    # Flatten the array into a single string\n",
    "    combined_str = ''.join(arr)\n",
    "    \n",
    "    # Use list comprehension to filter out uppercase characters\n",
    "    uppercase_chars = [char for char in combined_str if char.isupper()]\n",
    "    \n",
    "    return uppercase_chars\n",
    "\n",
    "# Define the NumPy array of strings\n",
    "arr = np.array(['Hello', 'World', 'OpenAI', 'GPT'])\n",
    "\n",
    "# Extract uppercase characters\n",
    "uppercase_chars = extract_uppercase_chars(arr)\n",
    "\n",
    "# Print the result\n",
    "print(\"Uppercase characters extracted from the array:\")\n",
    "print(uppercase_chars)"
   ]
  },
  {
   "cell_type": "code",
   "execution_count": 68,
   "id": "634d0e98-6c34-4889-9b96-09edb5a97e95",
   "metadata": {},
   "outputs": [],
   "source": [
    "# 58. Write a function that replaces occurrences of a substring in a NumPy array of strings with a new string."
   ]
  },
  {
   "cell_type": "code",
   "execution_count": 69,
   "id": "34d19d81-49e2-435e-b1f3-7b1d74cf7752",
   "metadata": {},
   "outputs": [
    {
     "name": "stdout",
     "output_type": "stream",
     "text": [
      "Array after replacement:\n",
      "['orange' 'banana' 'grape' 'pineorange']\n"
     ]
    }
   ],
   "source": [
    "def replace_substring(arr, old_substring, new_substring):\n",
    "    \"\"\"\n",
    "    Replace occurrences of a substring in a NumPy array of strings with a new string.\n",
    "\n",
    "    Parameters:\n",
    "    arr (numpy.ndarray): Array of strings.\n",
    "    old_substring (str): Substring to be replaced.\n",
    "    new_substring (str): New string to replace the old substring.\n",
    "\n",
    "    Returns:\n",
    "    numpy.ndarray: Array of strings with the substring replaced.\n",
    "    \"\"\"\n",
    "    # Replace old_substring with new_substring\n",
    "    result = np.char.replace(arr, old_substring, new_substring)\n",
    "    \n",
    "    return result\n",
    "\n",
    "# Define the NumPy array of strings\n",
    "arr = np.array(['apple', 'banana', 'grape', 'pineapple'])\n",
    "\n",
    "# Define the substring to replace and the new string\n",
    "old_substring = 'apple'\n",
    "new_substring = 'orange'\n",
    "\n",
    "# Replace occurrences of the substring\n",
    "replaced_arr = replace_substring(arr, old_substring, new_substring)\n",
    "\n",
    "# Print the result\n",
    "print(\"Array after replacement:\")\n",
    "print(replaced_arr)"
   ]
  },
  {
   "cell_type": "code",
   "execution_count": 70,
   "id": "dee81f2f-dc3b-4f46-991d-cef7436da2fc",
   "metadata": {},
   "outputs": [],
   "source": [
    "# 59. Write a function that concatenates strings in a NumPy array element-wise."
   ]
  },
  {
   "cell_type": "code",
   "execution_count": 71,
   "id": "960cb2c1-f497-4deb-bdfe-10deb1847f33",
   "metadata": {},
   "outputs": [
    {
     "name": "stdout",
     "output_type": "stream",
     "text": [
      "Array after element-wise concatenation:\n",
      "['HelloOpen' 'WorldAI']\n"
     ]
    }
   ],
   "source": [
    "def concatenate_strings_elementwise(arr1, arr2):\n",
    "    \"\"\"\n",
    "    Concatenate strings in two NumPy arrays element-wise.\n",
    "\n",
    "    Parameters:\n",
    "    arr1 (numpy.ndarray): First array of strings.\n",
    "    arr2 (numpy.ndarray): Second array of strings.\n",
    "\n",
    "    Returns:\n",
    "    numpy.ndarray: Array of concatenated strings.\n",
    "    \"\"\"\n",
    "    # Ensure both arrays have the same shape\n",
    "    if arr1.shape != arr2.shape:\n",
    "        raise ValueError(\"Both arrays must have the same shape for element-wise concatenation.\")\n",
    "    \n",
    "    # Concatenate strings element-wise\n",
    "    result = np.char.add(arr1, arr2)\n",
    "    \n",
    "    return result\n",
    "\n",
    "# Define the NumPy arrays of strings\n",
    "arr1 = np.array(['Hello', 'World'])\n",
    "arr2 = np.array(['Open', 'AI'])\n",
    "\n",
    "# Concatenate the strings element-wise\n",
    "concatenated_arr = concatenate_strings_elementwise(arr1, arr2)\n",
    "\n",
    "# Print the result\n",
    "print(\"Array after element-wise concatenation:\")\n",
    "print(concatenated_arr)"
   ]
  },
  {
   "cell_type": "code",
   "execution_count": 72,
   "id": "b850d05a-2c5c-4d57-920f-4347addab9d9",
   "metadata": {},
   "outputs": [],
   "source": [
    "#  60. Write a function that finds the length of the longest string in a NumPy array."
   ]
  },
  {
   "cell_type": "code",
   "execution_count": 73,
   "id": "d95f8baa-f5c7-4ebd-b6f5-debde87aa9e2",
   "metadata": {},
   "outputs": [
    {
     "name": "stdout",
     "output_type": "stream",
     "text": [
      "The length of the longest string is: 9\n"
     ]
    }
   ],
   "source": [
    "\n",
    "def length_of_longest_string(arr):\n",
    "    \"\"\"\n",
    "    Find the length of the longest string in a NumPy array of strings.\n",
    "\n",
    "    Parameters:\n",
    "    arr (numpy.ndarray): Array of strings.\n",
    "\n",
    "    Returns:\n",
    "    int: Length of the longest string.\n",
    "    \"\"\"\n",
    "    # Compute the length of each string in the array\n",
    "    lengths = np.char.str_len(arr)\n",
    "    \n",
    "    # Find the maximum length\n",
    "    max_length = np.max(lengths)\n",
    "    \n",
    "    return max_length\n",
    "\n",
    "# Define the NumPy array of strings\n",
    "arr = np.array(['apple', 'banana', 'grape', 'pineapple'])\n",
    "\n",
    "# Find the length of the longest string\n",
    "longest_length = length_of_longest_string(arr)\n",
    "\n",
    "# Print the result\n",
    "print(f\"The length of the longest string is: {longest_length}\")"
   ]
  },
  {
   "cell_type": "code",
   "execution_count": 74,
   "id": "f054d0d4-a605-4cbc-a761-aa17199b1fc9",
   "metadata": {},
   "outputs": [],
   "source": [
    "# 61. Create a dataset of 100 random integers between 1 and 1000. Compute the mean, median, variance, and standard deviation of the dataset using NumPy's functions."
   ]
  },
  {
   "cell_type": "code",
   "execution_count": 75,
   "id": "30b1b63f-63b2-4774-b05f-75ceef8a4192",
   "metadata": {},
   "outputs": [
    {
     "name": "stdout",
     "output_type": "stream",
     "text": [
      "Dataset statistics:\n",
      "Mean: 454.05\n",
      "Median: 447.5\n",
      "Variance: 80896.0075\n",
      "Standard Deviation: 284.42223453872236\n"
     ]
    }
   ],
   "source": [
    "dataset = np.random.randint(1, 1001, size=100)\n",
    "\n",
    "# Compute the mean\n",
    "mean = np.mean(dataset)\n",
    "\n",
    "# Compute the median\n",
    "median = np.median(dataset)\n",
    "\n",
    "# Compute the variance\n",
    "variance = np.var(dataset)\n",
    "\n",
    "# Compute the standard deviation\n",
    "std_dev = np.std(dataset)\n",
    "\n",
    "# Print the results\n",
    "print(\"Dataset statistics:\")\n",
    "print(f\"Mean: {mean}\")\n",
    "print(f\"Median: {median}\")\n",
    "print(f\"Variance: {variance}\")\n",
    "print(f\"Standard Deviation: {std_dev}\")"
   ]
  },
  {
   "cell_type": "code",
   "execution_count": 76,
   "id": "0d9f7d78-25f1-43d3-896c-7b51914ad226",
   "metadata": {},
   "outputs": [],
   "source": [
    "#  62. Generate an array of 50 random numbers between 1 and 100. Find the 25th and 75th percentiles of the v"
   ]
  },
  {
   "cell_type": "code",
   "execution_count": 77,
   "id": "e3869653-6938-4dd7-9d80-ab989976a862",
   "metadata": {},
   "outputs": [
    {
     "name": "stdout",
     "output_type": "stream",
     "text": [
      "Dataset:\n",
      "[18 71 54 28 69 82 63 35 57 29 17 82 47 10 19 75 67 52 84  7 89  1 27 45\n",
      " 52 51  5 37 50 54 62 88 84 84 40 51 32 58 34 44 52 93 15 92 79 80 46 64\n",
      " 62 88]\n",
      "25th Percentile: 34.25\n",
      "75th Percentile: 74.0\n"
     ]
    }
   ],
   "source": [
    "\n",
    "# Generate an array of 50 random numbers between 1 and 100\n",
    "dataset = np.random.randint(1, 101, size=50)\n",
    "\n",
    "# Compute the 25th percentile\n",
    "percentile_25 = np.percentile(dataset, 25)\n",
    "\n",
    "# Compute the 75th percentile\n",
    "percentile_75 = np.percentile(dataset, 75)\n",
    "\n",
    "# Print the results\n",
    "print(\"Dataset:\")\n",
    "print(dataset)\n",
    "\n",
    "print(f\"25th Percentile: {percentile_25}\")\n",
    "print(f\"75th Percentile: {percentile_75}\")"
   ]
  },
  {
   "cell_type": "code",
   "execution_count": 78,
   "id": "758efbb0-f995-4dfe-b28c-3e46630c76a5",
   "metadata": {},
   "outputs": [],
   "source": [
    "# 63. Create two arrays representing two sets of variables. Compute the correlation coefficient between these arrays using NumPy's `corrcoef` function."
   ]
  },
  {
   "cell_type": "code",
   "execution_count": 79,
   "id": "a69137da-a2d1-427c-8fde-94b8ae095d97",
   "metadata": {},
   "outputs": [
    {
     "name": "stdout",
     "output_type": "stream",
     "text": [
      "Correlation coefficient matrix:\n",
      "[[ 1. -1.]\n",
      " [-1.  1.]]\n",
      "Correlation coefficient between the arrays: -0.9999999999999999\n"
     ]
    }
   ],
   "source": [
    "array1 = np.array([1, 2, 3, 4, 5])\n",
    "array2 = np.array([5, 4, 3, 2, 1])\n",
    "\n",
    "# Compute the correlation coefficient matrix\n",
    "corr_matrix = np.corrcoef(array1, array2)\n",
    "\n",
    "# Extract the correlation coefficient between array1 and array2\n",
    "corr_coefficient = corr_matrix[0, 1]\n",
    "\n",
    "# Print the results\n",
    "print(\"Correlation coefficient matrix:\")\n",
    "print(corr_matrix)\n",
    "print(f\"Correlation coefficient between the arrays: {corr_coefficient}\")"
   ]
  },
  {
   "cell_type": "code",
   "execution_count": 80,
   "id": "bcab4708-ff4d-4d02-aea1-fd48f7097e90",
   "metadata": {},
   "outputs": [],
   "source": [
    "# 64. Create two matrices and perform matrix multiplication using NumPy's `dot` function."
   ]
  },
  {
   "cell_type": "code",
   "execution_count": 81,
   "id": "90da4dcf-8bf7-4706-a00d-64110b1503af",
   "metadata": {},
   "outputs": [
    {
     "name": "stdout",
     "output_type": "stream",
     "text": [
      "Matrix 1:\n",
      "[[1 2]\n",
      " [3 4]]\n",
      "\n",
      "Matrix 2:\n",
      "[[5 6]\n",
      " [7 8]]\n",
      "\n",
      "Result of matrix multiplication:\n",
      "[[19 22]\n",
      " [43 50]]\n"
     ]
    }
   ],
   "source": [
    "matrix1 = np.array([[1, 2], [3, 4]])\n",
    "matrix2 = np.array([[5, 6], [7, 8]])\n",
    "\n",
    "# Perform matrix multiplication\n",
    "result = np.dot(matrix1, matrix2)\n",
    "\n",
    "# Print the result\n",
    "print(\"Matrix 1:\")\n",
    "print(matrix1)\n",
    "print(\"\\nMatrix 2:\")\n",
    "print(matrix2)\n",
    "print(\"\\nResult of matrix multiplication:\")\n",
    "print(result)"
   ]
  },
  {
   "cell_type": "code",
   "execution_count": 82,
   "id": "9eece9cc-3aa4-4d7d-9ae3-b727a80df457",
   "metadata": {},
   "outputs": [],
   "source": [
    "#  65. Create an array of 50 integers between 10 and 1000. Calculate the 10th, 50th (median), and 90th percentiles along with the first and third quartiles."
   ]
  },
  {
   "cell_type": "code",
   "execution_count": 83,
   "id": "00750454-6796-400b-8878-72d83fb201b6",
   "metadata": {},
   "outputs": [
    {
     "name": "stdout",
     "output_type": "stream",
     "text": [
      "Array:\n",
      "[521 356 542 989 159 841 999 313 243 984 628 857 879 378 378 697 754 343\n",
      " 553 784 744 555 719 390 498 559 185 383 200 648 660  62 462 785  87 940\n",
      "  35 286 532 151 426 530  50 304 512 571 595 885 987 946]\n",
      "10th Percentile: 158.2\n",
      "50th Percentile (Median): 537.0\n",
      "90th Percentile: 940.6\n",
      "First Quartile (25th Percentile): 346.25\n",
      "Third Quartile (75th Percentile): 751.5\n"
     ]
    }
   ],
   "source": [
    "data = np.random.randint(10, 1001, size=50)\n",
    "\n",
    "# Calculate the 10th percentile\n",
    "percentile_10 = np.percentile(data, 10)\n",
    "\n",
    "# Calculate the 50th percentile (median)\n",
    "percentile_50 = np.percentile(data, 50)\n",
    "\n",
    "# Calculate the 90th percentile\n",
    "percentile_90 = np.percentile(data, 90)\n",
    "\n",
    "# Calculate the first quartile (25th percentile)\n",
    "first_quartile = np.percentile(data, 25)\n",
    "\n",
    "# Calculate the third quartile (75th percentile)\n",
    "third_quartile = np.percentile(data, 75)\n",
    "\n",
    "# Print the results\n",
    "print(\"Array:\")\n",
    "print(data)\n",
    "print(f\"10th Percentile: {percentile_10}\")\n",
    "print(f\"50th Percentile (Median): {percentile_50}\")\n",
    "print(f\"90th Percentile: {percentile_90}\")\n",
    "print(f\"First Quartile (25th Percentile): {first_quartile}\")\n",
    "print(f\"Third Quartile (75th Percentile): {third_quartile}\")"
   ]
  },
  {
   "cell_type": "code",
   "execution_count": 84,
   "id": "081f1e10-f79f-447c-9b37-1e61af3d9288",
   "metadata": {},
   "outputs": [],
   "source": [
    "#  66. Create a NumPy array of integers and find the index of a specific element."
   ]
  },
  {
   "cell_type": "code",
   "execution_count": 85,
   "id": "1cc39215-0e40-4038-a3aa-706fdd945548",
   "metadata": {},
   "outputs": [
    {
     "name": "stdout",
     "output_type": "stream",
     "text": [
      "The index of element 50 is: [4]\n"
     ]
    }
   ],
   "source": [
    "array = np.array([10, 20, 30, 40, 50, 60, 70, 80, 90, 100])\n",
    "\n",
    "# Define the specific element to find\n",
    "element = 50\n",
    "\n",
    "# Find the index of the specific element\n",
    "indices = np.where(array == element)\n",
    "\n",
    "# Print the result\n",
    "print(f\"The index of element {element} is: {indices[0]}\")"
   ]
  },
  {
   "cell_type": "code",
   "execution_count": 86,
   "id": "2ce9c312-97a1-434f-80cc-56f972323a0e",
   "metadata": {},
   "outputs": [],
   "source": [
    "#  67. Generate a random NumPy array and sort it in ascending order."
   ]
  },
  {
   "cell_type": "code",
   "execution_count": 87,
   "id": "2c29f2d5-12fb-49be-a65a-cf1930bdfeb8",
   "metadata": {},
   "outputs": [
    {
     "name": "stdout",
     "output_type": "stream",
     "text": [
      "Original Array:\n",
      "[ 83  24  52  48 100  50  72  41 100  71]\n",
      "\n",
      "Sorted Array:\n",
      "[ 24  41  48  50  52  71  72  83 100 100]\n"
     ]
    }
   ],
   "source": [
    "random_array = np.random.randint(1, 101, size=10)\n",
    "\n",
    "# Sort the array in ascending order\n",
    "sorted_array = np.sort(random_array)\n",
    "\n",
    "# Print the results\n",
    "print(\"Original Array:\")\n",
    "print(random_array)\n",
    "print(\"\\nSorted Array:\")\n",
    "print(sorted_array)"
   ]
  },
  {
   "cell_type": "code",
   "execution_count": 88,
   "id": "35b14b31-7d73-4fc5-9e16-accbcbf2ded1",
   "metadata": {},
   "outputs": [],
   "source": [
    "# 68. Filter elements >20  in the given NumPy array."
   ]
  },
  {
   "cell_type": "code",
   "execution_count": 89,
   "id": "05db7ae1-cb10-42e4-b8c1-6c9b31ddf8e4",
   "metadata": {},
   "outputs": [
    {
     "name": "stdout",
     "output_type": "stream",
     "text": [
      "Original Array:\n",
      "[12 25  6 42  8 30]\n",
      "\n",
      "Filtered Elements (greater than 20):\n",
      "[25 42 30]\n"
     ]
    }
   ],
   "source": [
    "arr = np.array([12, 25, 6, 42, 8, 30])\n",
    "\n",
    "# Filter elements greater than 20\n",
    "filtered_elements = arr[arr > 20]\n",
    "\n",
    "# Print the results\n",
    "print(\"Original Array:\")\n",
    "print(arr)\n",
    "print(\"\\nFiltered Elements (greater than 20):\")\n",
    "print(filtered_elements)"
   ]
  },
  {
   "cell_type": "code",
   "execution_count": 90,
   "id": "d9dc647f-60b8-4c5d-ac73-6158d3ad1001",
   "metadata": {},
   "outputs": [],
   "source": [
    "#  69. Filter elements which are divisible by 3 from a given NumPy array."
   ]
  },
  {
   "cell_type": "code",
   "execution_count": 91,
   "id": "93739c82-f7d5-4092-be0d-67ea606e0b21",
   "metadata": {},
   "outputs": [
    {
     "name": "stdout",
     "output_type": "stream",
     "text": [
      "[12 15]\n"
     ]
    }
   ],
   "source": [
    "arr = np.array([1, 5, 8, 12, 15])\n",
    "filtered_arr = arr[arr % 3 == 0]\n",
    "\n",
    "print(filtered_arr)"
   ]
  },
  {
   "cell_type": "code",
   "execution_count": 92,
   "id": "f54ae4ae-213e-4cc4-b470-05d522249773",
   "metadata": {},
   "outputs": [],
   "source": [
    "# 70. Filter elements which are ≥ 20 and ≤ 40 from a given NumPy array."
   ]
  },
  {
   "cell_type": "code",
   "execution_count": 93,
   "id": "3a364686-73a4-4241-a3d6-9445135d95b4",
   "metadata": {},
   "outputs": [
    {
     "name": "stdout",
     "output_type": "stream",
     "text": [
      "[20 30 40]\n"
     ]
    }
   ],
   "source": [
    "\n",
    "arr = np.array([10, 20, 30, 40, 50])\n",
    "filtered_arr = arr[(arr >= 20) & (arr <= 40)]\n",
    "\n",
    "print(filtered_arr)"
   ]
  },
  {
   "cell_type": "code",
   "execution_count": 94,
   "id": "d39ab2cc-95a9-4532-9d11-511ace198fed",
   "metadata": {},
   "outputs": [],
   "source": [
    "# 71. For the given NumPy array, check its byte order using the dtype attribute byteorder."
   ]
  },
  {
   "cell_type": "code",
   "execution_count": 95,
   "id": "0e55e968-95f5-4924-92c7-9ad4f938fadd",
   "metadata": {},
   "outputs": [
    {
     "name": "stdout",
     "output_type": "stream",
     "text": [
      "=\n"
     ]
    }
   ],
   "source": [
    "arr = np.array([1, 2, 3])\n",
    "byte_order = arr.dtype.byteorder\n",
    "\n",
    "print(byte_order)"
   ]
  },
  {
   "cell_type": "code",
   "execution_count": 96,
   "id": "b9e9ae8e-1906-40b7-9758-de5f55cd58c3",
   "metadata": {},
   "outputs": [],
   "source": [
    "# 72. For the given NumPy array, perform byte swapping in place using byteswap()."
   ]
  },
  {
   "cell_type": "code",
   "execution_count": 97,
   "id": "3675f71c-41ae-468d-8159-f5329fffd683",
   "metadata": {},
   "outputs": [
    {
     "name": "stdout",
     "output_type": "stream",
     "text": [
      "Original array: [1 2 3]\n",
      "Array after byteswap: [16777216 33554432 50331648]\n"
     ]
    }
   ],
   "source": [
    "arr = np.array([1, 2, 3], dtype=np.int32)\n",
    "print(\"Original array:\", arr)\n",
    "\n",
    "# Perform byte swapping in place\n",
    "arr.byteswap(inplace=True)\n",
    "print(\"Array after byteswap:\", arr)"
   ]
  },
  {
   "cell_type": "code",
   "execution_count": 98,
   "id": "a1476155-49e3-406d-86e8-e9a06b95c466",
   "metadata": {},
   "outputs": [],
   "source": [
    "# 73. For the given NumPy array, swap its byte order without modifying the original array using newbyteorder()."
   ]
  },
  {
   "cell_type": "code",
   "execution_count": 99,
   "id": "b29816d4-601c-431e-96b7-1012f5c66ad0",
   "metadata": {},
   "outputs": [
    {
     "name": "stdout",
     "output_type": "stream",
     "text": [
      "Original array: [1 2 3]\n",
      "Array with swapped byte order: [16777216 33554432 50331648]\n"
     ]
    }
   ],
   "source": [
    "arr = np.array([1, 2, 3], dtype=np.int32)\n",
    "print(\"Original array:\", arr)\n",
    "\n",
    "# Swap byte order without modifying the original array\n",
    "swapped_arr = arr.newbyteorder()\n",
    "print(\"Array with swapped byte order:\", swapped_arr)"
   ]
  },
  {
   "cell_type": "code",
   "execution_count": 100,
   "id": "5d565e67-98e2-4ef2-9c13-475d1ef07805",
   "metadata": {},
   "outputs": [],
   "source": [
    "#  74. For the given NumPy array and swap its byte order conditionally based on system endianness using `newbyteorder()`."
   ]
  },
  {
   "cell_type": "code",
   "execution_count": 101,
   "id": "281e3f59-020c-4297-a779-98798d484fe4",
   "metadata": {},
   "outputs": [
    {
     "name": "stdout",
     "output_type": "stream",
     "text": [
      "Array with swapped byte order: [16777216 33554432 50331648]\n"
     ]
    }
   ],
   "source": [
    "import numpy as np\n",
    "import sys\n",
    "\n",
    "# Create the NumPy array\n",
    "arr = np.array([1, 2, 3], dtype=np.int32)\n",
    "\n",
    "# Check system endianness\n",
    "if sys.byteorder == 'little':\n",
    "    # Swap byte order if system is little-endian\n",
    "    arr = arr.newbyteorder('>')\n",
    "elif sys.byteorder == 'big':\n",
    "    # Swap byte order if system is big-endian\n",
    "    arr = arr.newbyteorder('<')\n",
    "\n",
    "print(\"Array with swapped byte order:\", arr)"
   ]
  },
  {
   "cell_type": "code",
   "execution_count": 102,
   "id": "e86f3c18-5c60-4901-9855-0e985066200b",
   "metadata": {},
   "outputs": [],
   "source": [
    "#  75. For the given NumPy array, check if byte swapping is necessary for the current system using `dtype` attribute `byteorder`."
   ]
  },
  {
   "cell_type": "code",
   "execution_count": 103,
   "id": "0fb792dc-64ef-441e-b8c1-030034fb4fa4",
   "metadata": {},
   "outputs": [
    {
     "name": "stdout",
     "output_type": "stream",
     "text": [
      "No byte swapping needed. The array is in native endianness.\n"
     ]
    }
   ],
   "source": [
    "import numpy as np\n",
    "import sys\n",
    "\n",
    "# Create the NumPy array\n",
    "arr = np.array([1, 2, 3], dtype=np.int32)\n",
    "\n",
    "# Check the byte order of the array's dtype\n",
    "array_byteorder = arr.dtype.byteorder\n",
    "system_byteorder = sys.byteorder\n",
    "\n",
    "# Determine if byte swapping is necessary\n",
    "if array_byteorder == '=':\n",
    "    # Array is in native endianness\n",
    "    print(\"No byte swapping needed. The array is in native endianness.\")\n",
    "elif array_byteorder == '>' and system_byteorder == 'little':\n",
    "    # Array is in big-endian but system is little-endian\n",
    "    print(\"Byte swapping needed. The array is in big-endian format, but the system is little-endian.\")\n",
    "elif array_byteorder == '<' and system_byteorder == 'big':\n",
    "    # Array is in little-endian but system is big-endian\n",
    "    print(\"Byte swapping needed. The array is in little-endian format, but the system is big-endian.\")\n",
    "else:\n",
    "    print(\"No byte swapping needed or unknown format.\")"
   ]
  },
  {
   "cell_type": "code",
   "execution_count": 104,
   "id": "a1e5136e-51c4-4264-bf82-490dc3afe30a",
   "metadata": {},
   "outputs": [],
   "source": [
    "#  76. Create a NumPy array `arr1` with values from 1 to 10. Create a copy of `arr1` named `copy_arr` and modify an element in `copy_arr`. Check if modifying `copy_arr` affects `arr1`."
   ]
  },
  {
   "cell_type": "code",
   "execution_count": 105,
   "id": "b0691b7d-53cc-4bdb-a526-3ea5ca4a388a",
   "metadata": {},
   "outputs": [
    {
     "name": "stdout",
     "output_type": "stream",
     "text": [
      "Original array (arr1): [ 1  2  3  4  5  6  7  8  9 10]\n",
      "Modified copy (copy_arr): [100   2   3   4   5   6   7   8   9  10]\n",
      "Modifying copy_arr did not affect arr1.\n"
     ]
    }
   ],
   "source": [
    "import numpy as np\n",
    "\n",
    "# Create the original NumPy array with values from 1 to 10\n",
    "arr1 = np.arange(1, 11)\n",
    "\n",
    "# Create a copy of arr1\n",
    "copy_arr = arr1.copy()\n",
    "\n",
    "# Modify an element in copy_arr\n",
    "copy_arr[0] = 100\n",
    "\n",
    "# Print both arrays to see if arr1 is affected\n",
    "print(\"Original array (arr1):\", arr1)\n",
    "print(\"Modified copy (copy_arr):\", copy_arr)\n",
    "\n",
    "# Check if arr1 is affected\n",
    "if np.array_equal(arr1, copy_arr):\n",
    "    print(\"Modifying copy_arr affected arr1.\")\n",
    "else:\n",
    "    print(\"Modifying copy_arr did not affect arr1.\")"
   ]
  },
  {
   "cell_type": "code",
   "execution_count": 106,
   "id": "f40b4bb8-1280-478a-84e5-42db1115bac4",
   "metadata": {},
   "outputs": [],
   "source": [
    "#  77. Create a 2D NumPy array `matrix` of shape (3, 3) with random integers. Extract a slice `view_slice` from the matrix. Modify an element in `view_slice` and observe if it changes the original `matrix`."
   ]
  },
  {
   "cell_type": "code",
   "execution_count": 107,
   "id": "5264e166-b71c-4edc-95fe-ead6aa26f8c5",
   "metadata": {},
   "outputs": [
    {
     "name": "stdout",
     "output_type": "stream",
     "text": [
      "Original matrix:\n",
      "[[3 2 3]\n",
      " [3 3 4]\n",
      " [2 4 4]]\n",
      "\n",
      "Modified slice:\n",
      "[[99  4]\n",
      " [ 4  4]]\n",
      "\n",
      "Matrix after modifying slice:\n",
      "[[ 3  2  3]\n",
      " [ 3 99  4]\n",
      " [ 2  4  4]]\n"
     ]
    }
   ],
   "source": [
    "import numpy as np\n",
    "\n",
    "# Create a 2D NumPy array of shape (3, 3) with random integers\n",
    "matrix = np.random.randint(0, 10, size=(3, 3))\n",
    "print(\"Original matrix:\")\n",
    "print(matrix)\n",
    "\n",
    "# Extract a slice from the matrix\n",
    "view_slice = matrix[1:, 1:]  # Example slice: bottom-right 2x2 subarray\n",
    "\n",
    "# Modify an element in the slice\n",
    "view_slice[0, 0] = 99\n",
    "\n",
    "# Print both the matrix and the view_slice to observe changes\n",
    "print(\"\\nModified slice:\")\n",
    "print(view_slice)\n",
    "\n",
    "print(\"\\nMatrix after modifying slice:\")\n",
    "print(matrix)"
   ]
  },
  {
   "cell_type": "code",
   "execution_count": 108,
   "id": "92c666ef-d7b6-4201-afaf-38906e0f71a6",
   "metadata": {},
   "outputs": [],
   "source": [
    "#  78. Create a NumPy array `array_a` of shape (4, 3) with sequential integers from 1 to 12. Extract a slice `view_b` from `array_a` and broadcast the addition of 5 to view_b. Check if it alters the original `array_a`."
   ]
  },
  {
   "cell_type": "code",
   "execution_count": 109,
   "id": "9880509f-6e53-4923-a088-5465fd6cffe3",
   "metadata": {},
   "outputs": [
    {
     "name": "stdout",
     "output_type": "stream",
     "text": [
      "Original array_a:\n",
      "[[ 1  2  3]\n",
      " [ 4 10 11]\n",
      " [ 7 13 14]\n",
      " [10 16 17]]\n",
      "Modified view_b:\n",
      "[[10 11]\n",
      " [13 14]\n",
      " [16 17]]\n"
     ]
    }
   ],
   "source": [
    "array_a = np.arange(1, 13).reshape(4, 3)\n",
    "\n",
    "# Extract a slice from array_a\n",
    "view_b = array_a[1:, 1:]\n",
    "\n",
    "# Broadcast the addition of 5 to view_b\n",
    "view_b += 5\n",
    "\n",
    "# Print array_a and view_b to see if the modification affected the original array_a\n",
    "print(\"Original array_a:\")\n",
    "print(array_a)\n",
    "print(\"Modified view_b:\")\n",
    "print(view_b)"
   ]
  },
  {
   "cell_type": "code",
   "execution_count": 110,
   "id": "42b6b6a8-c82c-4800-9cb5-c93a7e93f584",
   "metadata": {},
   "outputs": [],
   "source": [
    "#  79. Create a NumPy array `orig_array` of shape (2, 4) with values from 1 to 8. Create a reshaped view `reshaped_view` of shape (4, 2) from orig_array. Modify an element in `reshaped_view` and check if it reflects changes in the original `orig_array`."
   ]
  },
  {
   "cell_type": "code",
   "execution_count": 111,
   "id": "6e8ff36d-7c26-471a-b521-78bc3483d3ce",
   "metadata": {},
   "outputs": [
    {
     "name": "stdout",
     "output_type": "stream",
     "text": [
      "Original array (orig_array):\n",
      "[[  1   2   3 100]\n",
      " [  5   6   7   8]]\n",
      "Modified reshaped view (reshaped_view):\n",
      "[[  1   2]\n",
      " [  3 100]\n",
      " [  5   6]\n",
      " [  7   8]]\n"
     ]
    }
   ],
   "source": [
    "orig_array = np.arange(1, 9).reshape(2, 4)\n",
    "\n",
    "# Create a reshaped view of shape (4, 2) from orig_array\n",
    "reshaped_view = orig_array.reshape(4, 2)\n",
    "\n",
    "# Modify an element in reshaped_view\n",
    "reshaped_view[1, 1] = 100\n",
    "\n",
    "# Print the original array and the reshaped view to see if the modification is reflected\n",
    "print(\"Original array (orig_array):\")\n",
    "print(orig_array)\n",
    "print(\"Modified reshaped view (reshaped_view):\")\n",
    "print(reshaped_view)"
   ]
  },
  {
   "cell_type": "code",
   "execution_count": 112,
   "id": "b5fcd9a4-d3dc-4a84-a288-25e9bb908ca6",
   "metadata": {},
   "outputs": [],
   "source": [
    "#  80. Create a NumPy array `data` of shape (3, 4) with random integers. Extract a copy `data_copy` of elements greater than 5. Modify an element in `data_copy` and verify if it affects the original `data`."
   ]
  },
  {
   "cell_type": "code",
   "execution_count": 113,
   "id": "d56f5bc3-711e-495b-b14e-dcaff5d3947a",
   "metadata": {},
   "outputs": [
    {
     "name": "stdout",
     "output_type": "stream",
     "text": [
      "Original data:\n",
      "[[6 9 4 5]\n",
      " [3 1 1 1]\n",
      " [1 8 9 7]]\n",
      "Modified data_copy:\n",
      "[100   9   8   9   7]\n"
     ]
    }
   ],
   "source": [
    "data = np.random.randint(1, 10, size=(3, 4))\n",
    "\n",
    "# Extract a copy of elements greater than 5\n",
    "data_copy = data[data > 5].copy()\n",
    "\n",
    "# Modify an element in data_copy\n",
    "data_copy[0] = 100\n",
    "\n",
    "# Print the original data and the modified data_copy to check if the original data is affected\n",
    "print(\"Original data:\")\n",
    "print(data)\n",
    "print(\"Modified data_copy:\")\n",
    "print(data_copy)"
   ]
  },
  {
   "cell_type": "code",
   "execution_count": 114,
   "id": "f6bf3812-45c1-4028-a4dd-99d637e3c557",
   "metadata": {},
   "outputs": [],
   "source": [
    "# 81. Create two matrices A and B of identical shape containing integers and perform addition and subtraction operations between them."
   ]
  },
  {
   "cell_type": "code",
   "execution_count": 115,
   "id": "1e5e0e1e-6878-4b92-b7c5-afb2b00017b3",
   "metadata": {},
   "outputs": [
    {
     "name": "stdout",
     "output_type": "stream",
     "text": [
      "Matrix A:\n",
      "[[1 2 3]\n",
      " [4 5 6]\n",
      " [7 8 9]]\n",
      "Matrix B:\n",
      "[[9 8 7]\n",
      " [6 5 4]\n",
      " [3 2 1]]\n",
      "Addition result (A + B):\n",
      "[[10 10 10]\n",
      " [10 10 10]\n",
      " [10 10 10]]\n",
      "Subtraction result (A - B):\n",
      "[[-8 -6 -4]\n",
      " [-2  0  2]\n",
      " [ 4  6  8]]\n"
     ]
    }
   ],
   "source": [
    "A = np.array([[1, 2, 3], [4, 5, 6], [7, 8, 9]])\n",
    "B = np.array([[9, 8, 7], [6, 5, 4], [3, 2, 1]])\n",
    "\n",
    "# Perform addition\n",
    "addition_result = A + B\n",
    "\n",
    "# Perform subtraction\n",
    "subtraction_result = A - B\n",
    "\n",
    "# Print the results\n",
    "print(\"Matrix A:\")\n",
    "print(A)\n",
    "print(\"Matrix B:\")\n",
    "print(B)\n",
    "print(\"Addition result (A + B):\")\n",
    "print(addition_result)\n",
    "print(\"Subtraction result (A - B):\")\n",
    "print(subtraction_result)"
   ]
  },
  {
   "cell_type": "code",
   "execution_count": 116,
   "id": "529d2091-f453-41da-8270-f8ef49ecfbb2",
   "metadata": {},
   "outputs": [],
   "source": [
    "#  82. Generate two matrices `C` (3x2) and `D` (2x4) and perform matrix multiplication."
   ]
  },
  {
   "cell_type": "code",
   "execution_count": 117,
   "id": "65b14b92-51e3-487f-a300-d0f88269c320",
   "metadata": {},
   "outputs": [
    {
     "name": "stdout",
     "output_type": "stream",
     "text": [
      "Matrix C:\n",
      "[[1 9]\n",
      " [2 6]\n",
      " [9 5]]\n",
      "Matrix D:\n",
      "[[1 4 9 9]\n",
      " [1 6 4 5]]\n",
      "Matrix multiplication result (C @ D):\n",
      "[[ 10  58  45  54]\n",
      " [  8  44  42  48]\n",
      " [ 14  66 101 106]]\n"
     ]
    }
   ],
   "source": [
    "C = np.random.randint(1, 10, size=(3, 2))\n",
    "\n",
    "# Generate matrix D of shape (2, 4)\n",
    "D = np.random.randint(1, 10, size=(2, 4))\n",
    "\n",
    "# Perform matrix multiplication\n",
    "result = C @ D\n",
    "\n",
    "# Print the matrices and the result\n",
    "print(\"Matrix C:\")\n",
    "print(C)\n",
    "print(\"Matrix D:\")\n",
    "print(D)\n",
    "print(\"Matrix multiplication result (C @ D):\")\n",
    "print(result)"
   ]
  },
  {
   "cell_type": "code",
   "execution_count": 118,
   "id": "399896ab-9057-43ef-87ce-2986e5722608",
   "metadata": {},
   "outputs": [],
   "source": [
    "#  83. Create a matrix `E` and find its transpose."
   ]
  },
  {
   "cell_type": "code",
   "execution_count": 119,
   "id": "e2fca1d4-d2df-4c43-8597-f9cbd4f183d2",
   "metadata": {},
   "outputs": [
    {
     "name": "stdout",
     "output_type": "stream",
     "text": [
      "Matrix E:\n",
      "[[ 1  2  3  4]\n",
      " [ 5  6  7  8]\n",
      " [ 9 10 11 12]]\n",
      "Transpose of matrix E:\n",
      "[[ 1  5  9]\n",
      " [ 2  6 10]\n",
      " [ 3  7 11]\n",
      " [ 4  8 12]]\n"
     ]
    }
   ],
   "source": [
    "E = np.array([[1, 2, 3, 4],\n",
    "              [5, 6, 7, 8],\n",
    "              [9, 10, 11, 12]])\n",
    "\n",
    "# Find the transpose of matrix E\n",
    "E_transpose = E.T\n",
    "\n",
    "# Alternatively, you can use np.transpose(E)\n",
    "# E_transpose = np.transpose(E)\n",
    "\n",
    "# Print the original matrix and its transpose\n",
    "print(\"Matrix E:\")\n",
    "print(E)\n",
    "print(\"Transpose of matrix E:\")\n",
    "print(E_transpose)"
   ]
  },
  {
   "cell_type": "code",
   "execution_count": 120,
   "id": "da9cb023-29cf-4db2-bcc8-49b74dd6b5d0",
   "metadata": {},
   "outputs": [],
   "source": [
    "#  84. Generate a square matrix `F` and compute its determinant."
   ]
  },
  {
   "cell_type": "code",
   "execution_count": 121,
   "id": "be06efad-00b4-4991-9d60-03fe4aa3999b",
   "metadata": {},
   "outputs": [
    {
     "name": "stdout",
     "output_type": "stream",
     "text": [
      "Matrix F:\n",
      "[[3 9 2]\n",
      " [5 6 9]\n",
      " [1 4 1]]\n",
      "Determinant of matrix F:\n",
      "-26.000000000000004\n"
     ]
    }
   ],
   "source": [
    "F = np.random.randint(1, 10, size=(3, 3))\n",
    "\n",
    "# Compute the determinant of matrix F\n",
    "determinant = np.linalg.det(F)\n",
    "\n",
    "# Print the matrix and its determinant\n",
    "print(\"Matrix F:\")\n",
    "print(F)\n",
    "print(\"Determinant of matrix F:\")\n",
    "print(determinant)"
   ]
  },
  {
   "cell_type": "code",
   "execution_count": 122,
   "id": "35b24c40-255f-4b0a-8484-e2a272116d8f",
   "metadata": {},
   "outputs": [],
   "source": [
    "#  85. Create a square matrix `G` and find its inverse."
   ]
  },
  {
   "cell_type": "code",
   "execution_count": 123,
   "id": "406ae5ce-0e3a-497a-9187-04f3edfafa15",
   "metadata": {},
   "outputs": [
    {
     "name": "stdout",
     "output_type": "stream",
     "text": [
      "Matrix G:\n",
      "[[1 2 3]\n",
      " [0 1 4]\n",
      " [5 6 0]]\n",
      "Inverse of matrix G:\n",
      "[[-24.  18.   5.]\n",
      " [ 20. -15.  -4.]\n",
      " [ -5.   4.   1.]]\n"
     ]
    }
   ],
   "source": [
    "G = np.array([[1, 2, 3],\n",
    "              [0, 1, 4],\n",
    "              [5, 6, 0]])\n",
    "\n",
    "# Compute the inverse of matrix G\n",
    "G_inverse = np.linalg.inv(G)\n",
    "\n",
    "# Print the matrix and its inverse\n",
    "print(\"Matrix G:\")\n",
    "print(G)\n",
    "print(\"Inverse of matrix G:\")\n",
    "print(G_inverse)"
   ]
  },
  {
   "cell_type": "code",
   "execution_count": null,
   "id": "3cd1cc09-435e-4db8-8493-72d6cfa0034f",
   "metadata": {},
   "outputs": [],
   "source": []
  }
 ],
 "metadata": {
  "kernelspec": {
   "display_name": "Python 3 (ipykernel)",
   "language": "python",
   "name": "python3"
  },
  "language_info": {
   "codemirror_mode": {
    "name": "ipython",
    "version": 3
   },
   "file_extension": ".py",
   "mimetype": "text/x-python",
   "name": "python",
   "nbconvert_exporter": "python",
   "pygments_lexer": "ipython3",
   "version": "3.10.8"
  }
 },
 "nbformat": 4,
 "nbformat_minor": 5
}
